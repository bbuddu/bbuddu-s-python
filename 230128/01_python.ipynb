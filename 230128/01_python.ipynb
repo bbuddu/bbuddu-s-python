{
 "cells": [
  {
   "cell_type": "code",
   "execution_count": 26,
   "metadata": {},
   "outputs": [
    {
     "name": "stdout",
     "output_type": "stream",
     "text": [
      "10\n",
      "<class 'int'>\n",
      "test\n",
      "<class 'str'>\n"
     ]
    }
   ],
   "source": [
    "#변수 선언\n",
    "a = 10\n",
    "b = 'test'\n",
    "\n",
    "##변수 출력\n",
    "print(a)\n",
    "print(type(a))\n",
    "\n",
    "print(b)\n",
    "print(type(b))"
   ]
  },
  {
   "cell_type": "code",
   "execution_count": 27,
   "metadata": {},
   "outputs": [
    {
     "name": "stdout",
     "output_type": "stream",
     "text": [
      "test2\n"
     ]
    }
   ],
   "source": [
    "a = 'test2'\n",
    "print(a)"
   ]
  },
  {
   "cell_type": "code",
   "execution_count": 28,
   "metadata": {},
   "outputs": [
    {
     "name": "stdout",
     "output_type": "stream",
     "text": [
      "<class 'bool'>\n"
     ]
    }
   ],
   "source": [
    "##불형 데이터\n",
    "##참과 거짓의 형태\n",
    "a = True\n",
    "print(type(a))"
   ]
  },
  {
   "cell_type": "code",
   "execution_count": 29,
   "metadata": {},
   "outputs": [
    {
     "name": "stdout",
     "output_type": "stream",
     "text": [
      "True False True\n"
     ]
    }
   ],
   "source": [
    "b = (100>10)\n",
    "c = (100<10)\n",
    "d = (100==100)\n",
    "print(b,c,d)"
   ]
  },
  {
   "cell_type": "code",
   "execution_count": 30,
   "metadata": {},
   "outputs": [
    {
     "name": "stdout",
     "output_type": "stream",
     "text": [
      "10 4 21 2.3333333333333335 2 1 343\n"
     ]
    }
   ],
   "source": [
    "##산술 연산자\n",
    "##기본적인 사칙연산\n",
    "a = 7\n",
    "b = 3\n",
    "print(a+b, a-b, a*b, a/b, a//b, a%b, a**b)"
   ]
  },
  {
   "cell_type": "code",
   "execution_count": 31,
   "metadata": {},
   "outputs": [
    {
     "name": "stdout",
     "output_type": "stream",
     "text": [
      "13\n",
      "20\n"
     ]
    }
   ],
   "source": [
    "c = 2\n",
    "print(a+b*c)\n",
    "print((a+b)*c)"
   ]
  },
  {
   "cell_type": "code",
   "execution_count": 32,
   "metadata": {},
   "outputs": [
    {
     "name": "stdout",
     "output_type": "stream",
     "text": [
      "12\n"
     ]
    }
   ],
   "source": [
    "##대입 연산자\n",
    "a += 5  # a = a+5\n",
    "print(a)"
   ]
  },
  {
   "attachments": {},
   "cell_type": "markdown",
   "metadata": {},
   "source": [
    "###조건문\n",
    "- if문"
   ]
  },
  {
   "cell_type": "code",
   "execution_count": 33,
   "metadata": {},
   "outputs": [],
   "source": [
    "a = 11\n",
    "if a < 10 :\n",
    "    print('a는 10보다 작다')"
   ]
  },
  {
   "cell_type": "code",
   "execution_count": 34,
   "metadata": {},
   "outputs": [
    {
     "name": "stdout",
     "output_type": "stream",
     "text": [
      "a는 10보다 크거나 같다\n"
     ]
    }
   ],
   "source": [
    "##if ~ else\n",
    "a = 20\n",
    "\n",
    "if a < 10:\n",
    "    print('a는 10보다 작다')\n",
    "else:\n",
    "    print('a는 10보다 크거나 같다')"
   ]
  },
  {
   "cell_type": "code",
   "execution_count": 35,
   "metadata": {},
   "outputs": [
    {
     "name": "stdout",
     "output_type": "stream",
     "text": [
      "88\n",
      "<class 'int'>\n",
      "B\n",
      "프로그램 종료\n"
     ]
    }
   ],
   "source": [
    "##if ~ elif ~ else문\n",
    "score = int(input(\"점수를 입력하세요 :\"))\n",
    "print(score)\n",
    "print(type(score))\n",
    "if score >= 90:\n",
    "    print(\"A\")\n",
    "elif score >= 80:\n",
    "    print(\"B\")\n",
    "elif score >= 70:\n",
    "    print(\"C\")\n",
    "else :\n",
    "    print(\"F\")\n",
    "print(\"프로그램 종료\")"
   ]
  },
  {
   "cell_type": "code",
   "execution_count": 36,
   "metadata": {},
   "outputs": [
    {
     "name": "stdout",
     "output_type": "stream",
     "text": [
      "0 번째 반복\n",
      "1 번째 반복\n",
      "2 번째 반복\n",
      "3 번째 반복\n",
      "4 번째 반복\n",
      "5 번째 반복\n",
      "6 번째 반복\n",
      "7 번째 반복\n",
      "8 번째 반복\n",
      "9 번째 반복\n"
     ]
    }
   ],
   "source": [
    "## 반복분\n",
    "## for문\n",
    "for i in range(0,10,1):\n",
    "    print(\"%d 번째 반복\" %i)"
   ]
  },
  {
   "cell_type": "code",
   "execution_count": 37,
   "metadata": {},
   "outputs": [
    {
     "name": "stdout",
     "output_type": "stream",
     "text": [
      "0 번째 반복\n",
      "1 번째 반복\n",
      "2 번째 반복\n",
      "3 번째 반복\n",
      "4 번째 반복\n",
      "5 번째 반복\n",
      "6 번째 반복\n",
      "7 번째 반복\n",
      "8 번째 반복\n",
      "9 번째 반복\n"
     ]
    }
   ],
   "source": [
    "for i in range(10):\n",
    "    print(\"%d 번째 반복\" %i)"
   ]
  },
  {
   "cell_type": "code",
   "execution_count": 38,
   "metadata": {},
   "outputs": [
    {
     "name": "stdout",
     "output_type": "stream",
     "text": [
      "55\n"
     ]
    }
   ],
   "source": [
    "## 1부터 10까지의 합계\n",
    "## for문\n",
    "\n",
    "## 합계 변수 생성\n",
    "sum = 0\n",
    "\n",
    "for a in range(1, 11, 1):\n",
    "    sum += a\n",
    "    # sum = sum + a\n",
    "\n",
    "print(sum)\n"
   ]
  },
  {
   "cell_type": "code",
   "execution_count": 44,
   "metadata": {},
   "outputs": [
    {
     "name": "stdout",
     "output_type": "stream",
     "text": [
      "2단\n",
      "2 X 1 = 2\n",
      "2 X 2 = 4\n",
      "2 X 3 = 6\n",
      "2 X 4 = 8\n",
      "2 X 5 = 10\n",
      "2 X 6 = 12\n",
      "2 X 7 = 14\n",
      "2 X 8 = 16\n",
      "2 X 9 = 18\n",
      "2 X 10 = 20\n",
      "2 X 11 = 22\n",
      "2 X 12 = 24\n",
      "2 X 13 = 26\n",
      "2 X 14 = 28\n",
      "2 X 15 = 30\n",
      "2 X 16 = 32\n",
      "2 X 17 = 34\n",
      "2 X 18 = 36\n",
      "2 X 19 = 38\n",
      "3단\n",
      "3 X 1 = 3\n",
      "3 X 2 = 6\n",
      "3 X 3 = 9\n",
      "3 X 4 = 12\n",
      "3 X 5 = 15\n",
      "3 X 6 = 18\n",
      "3 X 7 = 21\n",
      "3 X 8 = 24\n",
      "3 X 9 = 27\n",
      "3 X 10 = 30\n",
      "3 X 11 = 33\n",
      "3 X 12 = 36\n",
      "3 X 13 = 39\n",
      "3 X 14 = 42\n",
      "3 X 15 = 45\n",
      "3 X 16 = 48\n",
      "3 X 17 = 51\n",
      "3 X 18 = 54\n",
      "3 X 19 = 57\n",
      "4단\n",
      "4 X 1 = 4\n",
      "4 X 2 = 8\n",
      "4 X 3 = 12\n",
      "4 X 4 = 16\n",
      "4 X 5 = 20\n",
      "4 X 6 = 24\n",
      "4 X 7 = 28\n",
      "4 X 8 = 32\n",
      "4 X 9 = 36\n",
      "4 X 10 = 40\n",
      "4 X 11 = 44\n",
      "4 X 12 = 48\n",
      "4 X 13 = 52\n",
      "4 X 14 = 56\n",
      "4 X 15 = 60\n",
      "4 X 16 = 64\n",
      "4 X 17 = 68\n",
      "4 X 18 = 72\n",
      "4 X 19 = 76\n",
      "5단\n",
      "5 X 1 = 5\n",
      "5 X 2 = 10\n",
      "5 X 3 = 15\n",
      "5 X 4 = 20\n",
      "5 X 5 = 25\n",
      "5 X 6 = 30\n",
      "5 X 7 = 35\n",
      "5 X 8 = 40\n",
      "5 X 9 = 45\n",
      "5 X 10 = 50\n",
      "5 X 11 = 55\n",
      "5 X 12 = 60\n",
      "5 X 13 = 65\n",
      "5 X 14 = 70\n",
      "5 X 15 = 75\n",
      "5 X 16 = 80\n",
      "5 X 17 = 85\n",
      "5 X 18 = 90\n",
      "5 X 19 = 95\n",
      "6단\n",
      "6 X 1 = 6\n",
      "6 X 2 = 12\n",
      "6 X 3 = 18\n",
      "6 X 4 = 24\n",
      "6 X 5 = 30\n",
      "6 X 6 = 36\n",
      "6 X 7 = 42\n",
      "6 X 8 = 48\n",
      "6 X 9 = 54\n",
      "6 X 10 = 60\n",
      "6 X 11 = 66\n",
      "6 X 12 = 72\n",
      "6 X 13 = 78\n",
      "6 X 14 = 84\n",
      "6 X 15 = 90\n",
      "6 X 16 = 96\n",
      "6 X 17 = 102\n",
      "6 X 18 = 108\n",
      "6 X 19 = 114\n",
      "7단\n",
      "7 X 1 = 7\n",
      "7 X 2 = 14\n",
      "7 X 3 = 21\n",
      "7 X 4 = 28\n",
      "7 X 5 = 35\n",
      "7 X 6 = 42\n",
      "7 X 7 = 49\n",
      "7 X 8 = 56\n",
      "7 X 9 = 63\n",
      "7 X 10 = 70\n",
      "7 X 11 = 77\n",
      "7 X 12 = 84\n",
      "7 X 13 = 91\n",
      "7 X 14 = 98\n",
      "7 X 15 = 105\n",
      "7 X 16 = 112\n",
      "7 X 17 = 119\n",
      "7 X 18 = 126\n",
      "7 X 19 = 133\n",
      "8단\n",
      "8 X 1 = 8\n",
      "8 X 2 = 16\n",
      "8 X 3 = 24\n",
      "8 X 4 = 32\n",
      "8 X 5 = 40\n",
      "8 X 6 = 48\n",
      "8 X 7 = 56\n",
      "8 X 8 = 64\n",
      "8 X 9 = 72\n",
      "8 X 10 = 80\n",
      "8 X 11 = 88\n",
      "8 X 12 = 96\n",
      "8 X 13 = 104\n",
      "8 X 14 = 112\n",
      "8 X 15 = 120\n",
      "8 X 16 = 128\n",
      "8 X 17 = 136\n",
      "8 X 18 = 144\n",
      "8 X 19 = 152\n",
      "9단\n",
      "9 X 1 = 9\n",
      "9 X 2 = 18\n",
      "9 X 3 = 27\n",
      "9 X 4 = 36\n",
      "9 X 5 = 45\n",
      "9 X 6 = 54\n",
      "9 X 7 = 63\n",
      "9 X 8 = 72\n",
      "9 X 9 = 81\n",
      "9 X 10 = 90\n",
      "9 X 11 = 99\n",
      "9 X 12 = 108\n",
      "9 X 13 = 117\n",
      "9 X 14 = 126\n",
      "9 X 15 = 135\n",
      "9 X 16 = 144\n",
      "9 X 17 = 153\n",
      "9 X 18 = 162\n",
      "9 X 19 = 171\n"
     ]
    }
   ],
   "source": [
    "## 다중 for문\n",
    "## 구구단\n",
    "\n",
    "for i in range(2, 10, 1):\n",
    "    print(\"%d단\" %i)\n",
    "    for j in range(1, 20, 1):\n",
    "        print(\"%d X %d = %d\" %(i, j, i*j))\n"
   ]
  },
  {
   "cell_type": "code",
   "execution_count": 47,
   "metadata": {},
   "outputs": [
    {
     "name": "stdout",
     "output_type": "stream",
     "text": [
      "2550\n"
     ]
    }
   ],
   "source": [
    "## for문\n",
    "## 1부터 100까지의 숫자중에 짝수의 합계\n",
    "## hint : 1부터 100까지 반복\n",
    "## if 조건식을 사용해서 짝수인 경우에만 +\n",
    "\n",
    "## 합계 변수 생성\n",
    "sum = 0\n",
    "\n",
    "## 반복분 생성\n",
    "\n",
    "for i in range(1,101,1):\n",
    "    if i % 2 == 0:\n",
    "        sum += i\n",
    "\n",
    "print(sum)"
   ]
  },
  {
   "cell_type": "code",
   "execution_count": 48,
   "metadata": {},
   "outputs": [
    {
     "name": "stdout",
     "output_type": "stream",
     "text": [
      "1 4\n",
      "2 3\n",
      "3 2\n",
      "4 1\n"
     ]
    }
   ],
   "source": [
    "## 다중 for문\n",
    "## 2개의 주사위를 굴려서 두 주사위의 합이 5가 되는 주사위의 값\n",
    "\n",
    "for i in range(1,7,1):\n",
    "    for j in range(1,7,1):\n",
    "        if i + j == 5:\n",
    "            print(i,j)"
   ]
  },
  {
   "cell_type": "code",
   "execution_count": 51,
   "metadata": {},
   "outputs": [
    {
     "name": "stdout",
     "output_type": "stream",
     "text": [
      "0\n",
      "1\n",
      "2\n",
      "3\n",
      "4\n",
      "5\n",
      "6\n",
      "7\n",
      "8\n",
      "9\n"
     ]
    }
   ],
   "source": [
    "## while문\n",
    "\n",
    "## 초기값 지정\n",
    "i = 0\n",
    "\n",
    "# while문 시작\n",
    "\n",
    "while i < 10:\n",
    "    print(i)\n",
    "    i += 1"
   ]
  },
  {
   "cell_type": "code",
   "execution_count": 52,
   "metadata": {},
   "outputs": [
    {
     "name": "stdout",
     "output_type": "stream",
     "text": [
      "1 번째 반복\n",
      "2 번째 반복\n",
      "3 번째 반복\n",
      "4 번째 반복\n",
      "5 번째 반복\n"
     ]
    }
   ],
   "source": [
    "## break문\n",
    "for i in range(1, 101, 1):\n",
    "    print(\"%d 번째 반복\"%i)\n",
    "    if i == 5:\n",
    "        break "
   ]
  },
  {
   "cell_type": "code",
   "execution_count": 54,
   "metadata": {},
   "outputs": [
    {
     "name": "stdout",
     "output_type": "stream",
     "text": [
      "합계가 500 이상이 되는 범위의 숫자 32 합계는 528\n"
     ]
    }
   ],
   "source": [
    "## 1부터 100까지 합계를 구하는 중 합계가 500이 넘어가는 숫자와 합계의 값\n",
    "\n",
    "\n",
    "sum = 0\n",
    "\n",
    "for i in range(1,101,1):\n",
    "    sum += i\n",
    "    if sum >= 500:\n",
    "        break\n",
    "\n",
    "print('합계가 500 이상이 되는 범위의 숫자',i,'합계는',sum)"
   ]
  },
  {
   "cell_type": "code",
   "execution_count": 59,
   "metadata": {},
   "outputs": [
    {
     "name": "stdout",
     "output_type": "stream",
     "text": [
      "합계가 500 이상이 되는 범위의 숫자 32 합계는 528\n"
     ]
    }
   ],
   "source": [
    "### while 문\n",
    "\n",
    "sum = 0\n",
    "i = 1\n",
    "\n",
    "while i <= 100:\n",
    "    sum += i\n",
    "    if sum >= 500:\n",
    "        break\n",
    "    i += 1\n",
    "\n",
    "print('합계가 500 이상이 되는 범위의 숫자',i,'합계는',sum)\n",
    "\n"
   ]
  },
  {
   "cell_type": "code",
   "execution_count": 62,
   "metadata": {},
   "outputs": [
    {
     "name": "stdout",
     "output_type": "stream",
     "text": [
      "4 번쨰 반복\n",
      "5 번쨰 반복\n",
      "6 번쨰 반복\n",
      "7 번쨰 반복\n",
      "8 번쨰 반복\n",
      "9 번쨰 반복\n"
     ]
    }
   ],
   "source": [
    "## cuntinue문\n",
    "for i in range(1, 10, 1):\n",
    "    if i <= 3:\n",
    "        continue\n",
    "    print(\"%d 번쨰 반복\"%i)"
   ]
  },
  {
   "cell_type": "code",
   "execution_count": 63,
   "metadata": {},
   "outputs": [
    {
     "name": "stdout",
     "output_type": "stream",
     "text": [
      "2550\n"
     ]
    }
   ],
   "source": [
    "## 1부터 100까지의 짝수의 합계\n",
    "\n",
    "sum = 0\n",
    "\n",
    "for i in range(1, 101, 1):\n",
    "    if i % 2 == 1:\n",
    "        continue\n",
    "    sum += i\n",
    "\n",
    "print(sum)"
   ]
  },
  {
   "cell_type": "code",
   "execution_count": 64,
   "metadata": {},
   "outputs": [
    {
     "name": "stdout",
     "output_type": "stream",
     "text": [
      "(1, 'hello') (3, 3.14) (1, 'hello', 3, 3.14) (1, 'hello', 1, 'hello', 1, 'hello') hello\n"
     ]
    }
   ],
   "source": [
    "### 튜플\n",
    "a = (1, 'hello')\n",
    "b = (3, 3.14)\n",
    "c = a+b\n",
    "d = a*3\n",
    "e = a[1]\n",
    "\n",
    "print(a,b,c,d,e)"
   ]
  },
  {
   "cell_type": "code",
   "execution_count": 66,
   "metadata": {},
   "outputs": [
    {
     "name": "stdout",
     "output_type": "stream",
     "text": [
      "1\n"
     ]
    }
   ],
   "source": [
    "## 숫자 1만 출력하고 싶으면?\n",
    "print(a[0])"
   ]
  },
  {
   "cell_type": "code",
   "execution_count": 68,
   "metadata": {},
   "outputs": [],
   "source": [
    "a = (10,20,30,40)"
   ]
  },
  {
   "cell_type": "code",
   "execution_count": 69,
   "metadata": {},
   "outputs": [
    {
     "name": "stdout",
     "output_type": "stream",
     "text": [
      "(20, 30)\n"
     ]
    }
   ],
   "source": [
    "print(a[1:3])"
   ]
  },
  {
   "cell_type": "code",
   "execution_count": 70,
   "metadata": {},
   "outputs": [
    {
     "name": "stdout",
     "output_type": "stream",
     "text": [
      "(30, 40)\n"
     ]
    }
   ],
   "source": [
    "## 30,40 을 출력하려면?\n",
    "print(a[2:])"
   ]
  },
  {
   "cell_type": "code",
   "execution_count": 71,
   "metadata": {},
   "outputs": [],
   "source": [
    "## list 형태 데이터\n",
    "a = [20,10,50,5]\n",
    "b = [10,20,30,40]"
   ]
  },
  {
   "cell_type": "code",
   "execution_count": 73,
   "metadata": {},
   "outputs": [
    {
     "name": "stdout",
     "output_type": "stream",
     "text": [
      "[5, 10, 20, 50]\n"
     ]
    }
   ],
   "source": [
    "## sort() -> 오름차순 정렬로 변경\n",
    "a.sort()\n",
    "print(a)"
   ]
  },
  {
   "cell_type": "code",
   "execution_count": 74,
   "metadata": {},
   "outputs": [
    {
     "name": "stdout",
     "output_type": "stream",
     "text": [
      "[40, 30, 20, 10]\n"
     ]
    }
   ],
   "source": [
    "## reverse() -> 역순으로 정렬로 변경\n",
    "b. reverse()\n",
    "print(b)"
   ]
  },
  {
   "cell_type": "code",
   "execution_count": 75,
   "metadata": {},
   "outputs": [
    {
     "name": "stdout",
     "output_type": "stream",
     "text": [
      "[5, 10, 20, 50, 22]\n"
     ]
    }
   ],
   "source": [
    "## append() -> 리스트의 마지막에 항목 추가\n",
    "a.append(22)\n",
    "print(a)"
   ]
  },
  {
   "cell_type": "code",
   "execution_count": 76,
   "metadata": {},
   "outputs": [
    {
     "name": "stdout",
     "output_type": "stream",
     "text": [
      "[]\n",
      "[10]\n"
     ]
    }
   ],
   "source": [
    "## 리스트의 특징\n",
    "a = []\n",
    "print(a)\n",
    "a.append(10)\n",
    "print(a)"
   ]
  },
  {
   "cell_type": "code",
   "execution_count": 80,
   "metadata": {},
   "outputs": [
    {
     "name": "stdout",
     "output_type": "stream",
     "text": [
      "[]\n",
      "[0, 3, 6, 9, 12, 15, 18, 21, 24, 27, 30, 33, 36, 39, 42, 45, 48, 51, 54, 57, 60, 63, 66, 69]\n"
     ]
    }
   ],
   "source": [
    "## 1부터 70까지 숫자들 중에 3의 배수를 리스트로 만들어서 출력하시오\n",
    "a = []\n",
    "print(a)\n",
    "for i in range (0,71,3):\n",
    "    a.append(i)\n",
    "print(a)\n"
   ]
  },
  {
   "cell_type": "code",
   "execution_count": 82,
   "metadata": {},
   "outputs": [
    {
     "name": "stdout",
     "output_type": "stream",
     "text": [
      "[3, 6, 9, 12, 15, 18, 21, 24, 27, 30, 33, 36, 39, 42, 45, 48, 51, 54, 57, 60, 63, 66, 69]\n"
     ]
    }
   ],
   "source": [
    "## 1부터 70까지 숫자들 중에 3의 배수를 리스트로 만들어서 출력하시오\n",
    "l = []\n",
    "\n",
    "## 1부터 70까지 반복 \n",
    "for i in range(1,71,1):\n",
    "    ## 3의 배수 조건식\n",
    "    if i % 3 == 0:\n",
    "        l.append(i)\n",
    "\n",
    "print(l)"
   ]
  },
  {
   "cell_type": "code",
   "execution_count": 84,
   "metadata": {},
   "outputs": [
    {
     "name": "stdout",
     "output_type": "stream",
     "text": [
      "5\n",
      "7\n",
      "10\n"
     ]
    }
   ],
   "source": [
    "for i in [5,7,10]:\n",
    "    print(i)"
   ]
  },
  {
   "cell_type": "code",
   "execution_count": 89,
   "metadata": {},
   "outputs": [
    {
     "name": "stdout",
     "output_type": "stream",
     "text": [
      "828\n"
     ]
    }
   ],
   "source": [
    "sum = 0\n",
    "for i in l:\n",
    "    sum += i\n",
    "\n",
    "print(sum)"
   ]
  },
  {
   "cell_type": "code",
   "execution_count": 95,
   "metadata": {},
   "outputs": [],
   "source": [
    "## 딕셔너리\n",
    "## 사전형 데이터\n",
    "## {key1 : value1, key2 : value2, ...}\n",
    "dict = {\n",
    "    \"name\" : \"test\",\n",
    "    \"age\" : 20,\n",
    "    \"phone\" : \"01012345678\"\n",
    "}"
   ]
  },
  {
   "cell_type": "code",
   "execution_count": 96,
   "metadata": {},
   "outputs": [
    {
     "name": "stdout",
     "output_type": "stream",
     "text": [
      "test\n"
     ]
    }
   ],
   "source": [
    "print(dict[\"name\"])"
   ]
  },
  {
   "cell_type": "code",
   "execution_count": 97,
   "metadata": {},
   "outputs": [
    {
     "name": "stdout",
     "output_type": "stream",
     "text": [
      "{'name': 'test', 'age': 20, 'phone': '01012345678', 'area': 'seoul'}\n"
     ]
    }
   ],
   "source": [
    "## 새로운 key : value 를 대입\n",
    "dict['area'] = \"seoul\"\n",
    "\n",
    "print(dict)"
   ]
  },
  {
   "cell_type": "code",
   "execution_count": 112,
   "metadata": {},
   "outputs": [],
   "source": [
    "##  Database에서 데이터를 받아올 때 데이터의 형태 확인\n",
    "## [ { }, { }, { } ]\n",
    "test_data = [ {\n",
    "    \"name\" : \"test1\",\n",
    "    \"age\" : 20\n",
    "},\n",
    "{\n",
    "    \"name\" : \"test2\",\n",
    "    \"age\" : 30\n",
    "},\n",
    "{\n",
    "    \"name\" : \"test3\",\n",
    "    \"age\" : 40\n",
    "}]"
   ]
  },
  {
   "cell_type": "code",
   "execution_count": 122,
   "metadata": {},
   "outputs": [
    {
     "name": "stdout",
     "output_type": "stream",
     "text": [
      "{'name': 'test1', 'age': 20}\n"
     ]
    }
   ],
   "source": [
    "print(test_data[0])"
   ]
  },
  {
   "cell_type": "code",
   "execution_count": 117,
   "metadata": {},
   "outputs": [
    {
     "name": "stdout",
     "output_type": "stream",
     "text": [
      "test1\n"
     ]
    }
   ],
   "source": [
    "print(test_data[0]['name'])"
   ]
  },
  {
   "cell_type": "code",
   "execution_count": 123,
   "metadata": {},
   "outputs": [
    {
     "name": "stdout",
     "output_type": "stream",
     "text": [
      "['test1', 'test2', 'test3']\n"
     ]
    }
   ],
   "source": [
    "## test_data에서 name의 값들만 리스트의 형태로 출력\n",
    "name_list = []\n",
    "\n",
    "for name in test_data:\n",
    "    name_list.append(name[\"name\"])\n",
    "\n",
    "print(name_list)"
   ]
  },
  {
   "cell_type": "code",
   "execution_count": 125,
   "metadata": {},
   "outputs": [
    {
     "name": "stdout",
     "output_type": "stream",
     "text": [
      "['test1', 'test2', 'test3']\n"
     ]
    }
   ],
   "source": [
    "name_list = []\n",
    "\n",
    "for i in range(0,len(test_data),1):\n",
    "    name_list.append(test_data[i]['name'])\n",
    "\n",
    "\n",
    "print(name_list)"
   ]
  },
  {
   "cell_type": "code",
   "execution_count": 126,
   "metadata": {},
   "outputs": [
    {
     "name": "stdout",
     "output_type": "stream",
     "text": [
      "HELLO WORLD\n",
      "hello world\n"
     ]
    }
   ],
   "source": [
    "## 문자열 내장 함수\n",
    "\n",
    "## 대문자, 소문자 변환\n",
    "## upper(), lower()\n",
    "text = \"hello world\"\n",
    "print(text.upper())\n",
    "print(text.lower())"
   ]
  },
  {
   "cell_type": "code",
   "execution_count": 127,
   "metadata": {},
   "outputs": [
    {
     "name": "stdout",
     "output_type": "stream",
     "text": [
      "    Hello world     \n"
     ]
    }
   ],
   "source": [
    "text = \"    Hello world     \"\n",
    "print(text)"
   ]
  },
  {
   "cell_type": "code",
   "execution_count": 128,
   "metadata": {},
   "outputs": [
    {
     "name": "stdout",
     "output_type": "stream",
     "text": [
      "Hello world     \n",
      "    Hello world\n",
      "Hello world\n"
     ]
    }
   ],
   "source": [
    "## 공백 제거 함수     \n",
    "# ## strip() :  양쪽의 공백 제거\n",
    "## lstrip() : 왼쪽의 공백 제거\n",
    "## rstrip() : 오른쪽의 공백 제거\n",
    "print(text.lstrip())\n",
    "print(text.rstrip())\n",
    "print(text.strip())"
   ]
  },
  {
   "cell_type": "code",
   "execution_count": 129,
   "metadata": {},
   "outputs": [
    {
     "data": {
      "text/plain": [
       "'Helloworld'"
      ]
     },
     "execution_count": 129,
     "metadata": {},
     "output_type": "execute_result"
    }
   ],
   "source": [
    "## replace()\n",
    "## 선택한 문자열을 변경\n",
    "## 공백을 제거하는데도 사용이 가능\n",
    "text.replace(\" \", \"\")"
   ]
  },
  {
   "cell_type": "code",
   "execution_count": 130,
   "metadata": {},
   "outputs": [
    {
     "data": {
      "text/plain": [
       "'    Hi world     '"
      ]
     },
     "execution_count": 130,
     "metadata": {},
     "output_type": "execute_result"
    }
   ],
   "source": [
    "text.replace(\"Hello\", \"Hi\")"
   ]
  },
  {
   "cell_type": "code",
   "execution_count": 131,
   "metadata": {},
   "outputs": [
    {
     "name": "stdout",
     "output_type": "stream",
     "text": [
      "a,b,c,d,e\n"
     ]
    }
   ],
   "source": [
    "### split()\n",
    "## 기준이 되는 문자열이나 , . / 와 같은 특수문자열을 기준으로 문자열을 나줘주는 역할\n",
    "a = \"a,b,c,d,e\"\n",
    "print(a)"
   ]
  },
  {
   "cell_type": "code",
   "execution_count": 132,
   "metadata": {},
   "outputs": [
    {
     "data": {
      "text/plain": [
       "['a', 'b', 'c', 'd', 'e']"
      ]
     },
     "execution_count": 132,
     "metadata": {},
     "output_type": "execute_result"
    }
   ],
   "source": [
    "a.split(\",\")"
   ]
  },
  {
   "cell_type": "code",
   "execution_count": 134,
   "metadata": {},
   "outputs": [],
   "source": [
    "##함수\n",
    "def func_1():\n",
    "    return \"Hello World\""
   ]
  },
  {
   "cell_type": "code",
   "execution_count": 135,
   "metadata": {},
   "outputs": [
    {
     "name": "stdout",
     "output_type": "stream",
     "text": [
      "Hello World\n",
      "Hello World\n",
      "Hello World\n"
     ]
    }
   ],
   "source": [
    "print(func_1())\n",
    "print(func_1())\n",
    "print(func_1())"
   ]
  },
  {
   "cell_type": "code",
   "execution_count": 140,
   "metadata": {},
   "outputs": [],
   "source": [
    "## 매개변수가 존재하는 함수 생성\n",
    "def func_2(x,y):\n",
    "    result = x+y\n",
    "    return result"
   ]
  },
  {
   "cell_type": "code",
   "execution_count": 141,
   "metadata": {},
   "outputs": [
    {
     "name": "stdout",
     "output_type": "stream",
     "text": [
      "8\n",
      "4\n",
      "14\n"
     ]
    }
   ],
   "source": [
    "print(func_2(5,3))\n",
    "print(func_2(1,3))\n",
    "print(func_2(10,4))"
   ]
  },
  {
   "cell_type": "code",
   "execution_count": 142,
   "metadata": {},
   "outputs": [
    {
     "ename": "TypeError",
     "evalue": "func_2() missing 1 required positional argument: 'y'",
     "output_type": "error",
     "traceback": [
      "\u001b[1;31m---------------------------------------------------------------------------\u001b[0m",
      "\u001b[1;31mTypeError\u001b[0m                                 Traceback (most recent call last)",
      "Cell \u001b[1;32mIn[142], line 1\u001b[0m\n\u001b[1;32m----> 1\u001b[0m func_2(\u001b[39m1\u001b[39;49m)\n",
      "\u001b[1;31mTypeError\u001b[0m: func_2() missing 1 required positional argument: 'y'"
     ]
    }
   ],
   "source": [
    "func_2(1)"
   ]
  },
  {
   "cell_type": "code",
   "execution_count": 144,
   "metadata": {},
   "outputs": [
    {
     "name": "stdout",
     "output_type": "stream",
     "text": [
      "6\n",
      "6\n"
     ]
    }
   ],
   "source": [
    "### 매개변수의 기본값을 정의\n",
    "def func_3(x,y=3):\n",
    "    result = x+y\n",
    "    return result\n",
    "\n",
    "print(func_3(5,1))\n",
    "print(func_3(3))"
   ]
  },
  {
   "cell_type": "code",
   "execution_count": 147,
   "metadata": {},
   "outputs": [
    {
     "name": "stdout",
     "output_type": "stream",
     "text": [
      "25\n",
      "32\n"
     ]
    }
   ],
   "source": [
    "def func_4(x,y):\n",
    "    result = x ** y\n",
    "    return result\n",
    "\n",
    "print(func_4(5,2))\n",
    "print(func_4(y=5, x=2))   #순서를 맞추지 않아도 가능 한 방법"
   ]
  },
  {
   "attachments": {},
   "cell_type": "markdown",
   "metadata": {},
   "source": [
    "1. 함수를 하나 생성. 매개변수 2개 (x,y)\n",
    "2. 함수가 하는 행동 ( x 부터 y까지의 합을 리턴 ) - for/while문\n",
    "3. x보다 y가 작은 경우에는 x부터 y까지의 합, 반대인 경우에는 y부터 x까지의 합을 리턴"
   ]
  },
  {
   "cell_type": "code",
   "execution_count": 166,
   "metadata": {},
   "outputs": [
    {
     "name": "stdout",
     "output_type": "stream",
     "text": [
      "55\n"
     ]
    }
   ],
   "source": [
    "def func_5(x, y):\n",
    "    f_sum = 0\n",
    "    for i in range(x,y+1,1):\n",
    "        f_sum += i\n",
    "    return f_sum\n",
    "\n",
    "print(func_5(1,10))\n",
    "print(f_sum)      #값이 없다. 왜? -> f_sum은 함수 안에 있는 지역변수 라서 밖에서 출력하는 프린트에서는 값이 나오지 않음.\n"
   ]
  },
  {
   "cell_type": "code",
   "execution_count": 167,
   "metadata": {},
   "outputs": [
    {
     "name": "stdout",
     "output_type": "stream",
     "text": [
      "55\n"
     ]
    }
   ],
   "source": [
    "def func_6(x,y):\n",
    "    f_sum = 0\n",
    "    while x <= y :\n",
    "        f_sum += x\n",
    "        x += 1\n",
    "    return f_sum\n",
    "print(func_6(1,10))"
   ]
  },
  {
   "cell_type": "code",
   "execution_count": 168,
   "metadata": {},
   "outputs": [
    {
     "name": "stdout",
     "output_type": "stream",
     "text": [
      "55\n",
      "55\n"
     ]
    }
   ],
   "source": [
    "def func_7(x,y):\n",
    "    f_sum = 0\n",
    "    ## x 가 y보다 작은 경우\n",
    "    if x < y :\n",
    "        for i in range(x,y+1,1):\n",
    "            f_sum += i\n",
    "    else:\n",
    "        for i in range(y,x+1,1):\n",
    "            f_sum += i\n",
    "    return f_sum\n",
    "\n",
    "print(func_7(1,10))\n",
    "print(func_7(10,1))"
   ]
  },
  {
   "cell_type": "code",
   "execution_count": 169,
   "metadata": {},
   "outputs": [
    {
     "name": "stdout",
     "output_type": "stream",
     "text": [
      "55\n",
      "55\n"
     ]
    }
   ],
   "source": [
    "def func_8(x,y):\n",
    "    f_sum = 0\n",
    "    for i in range(min(x,y),max(x,y)+1,1):\n",
    "        f_sum += i\n",
    "    return f_sum\n",
    "\n",
    "print(func_8(1,10))\n",
    "print(func_8(10,1))"
   ]
  },
  {
   "attachments": {},
   "cell_type": "markdown",
   "metadata": {},
   "source": [
    "1. 함수 생성( 매개변수 3개 x, y, z)\n",
    "2. z의 값이 '합' x+y 리턴\n",
    "3. z의 값이 '차' x-y 리턴\n",
    "4. z의 값이 둘 다 아니면 '연산식이 잘못되었습니다' 리턴"
   ]
  },
  {
   "cell_type": "code",
   "execution_count": 188,
   "metadata": {},
   "outputs": [
    {
     "name": "stdout",
     "output_type": "stream",
     "text": [
      "4\n",
      "-2\n",
      "연산식이 잘못되었습니다\n"
     ]
    }
   ],
   "source": [
    "def func_9(x,y,z):\n",
    "    if z == \"합\":\n",
    "        return x+y\n",
    "    if z ==\"차\":\n",
    "        return x-y\n",
    "    else :\n",
    "        result= \"연산식이 잘못되었습니다\"\n",
    "    return result\n",
    "\n",
    "print(func_9(1,3,'합'))\n",
    "print(func_9(1,3,'차'))\n",
    "print(func_9(1,3,'곱'))"
   ]
  },
  {
   "cell_type": "code",
   "execution_count": 175,
   "metadata": {},
   "outputs": [
    {
     "name": "stdout",
     "output_type": "stream",
     "text": [
      "4\n",
      "-2\n",
      "연산식이 잘못되었습니다\n"
     ]
    }
   ],
   "source": [
    "def func_10(x,y,z):\n",
    "    if z ==\"합\":\n",
    "        result = x + y\n",
    "    elif z == \"차\":\n",
    "        result = x - y\n",
    "    else : \n",
    "        result = \"연산식이 잘못되었습니다\"\n",
    "    return result\n",
    "\n",
    "print(func_10(1,3,'합'))\n",
    "print(func_10(1,3,'차'))\n",
    "print(func_10(1,3,'곱'))"
   ]
  },
  {
   "cell_type": "code",
   "execution_count": 182,
   "metadata": {},
   "outputs": [
    {
     "name": "stdout",
     "output_type": "stream",
     "text": [
      "[1, 4, 9, 16]\n"
     ]
    }
   ],
   "source": [
    "def func_11(x):\n",
    "    result = x **2\n",
    "    return result\n",
    "\n",
    "l = [1,2,3,4]\n",
    "\n",
    "result = []\n",
    "\n",
    "for i in l:\n",
    "    result.append(func_11(i))\n",
    "print(result)"
   ]
  },
  {
   "cell_type": "code",
   "execution_count": 183,
   "metadata": {},
   "outputs": [
    {
     "name": "stdout",
     "output_type": "stream",
     "text": [
      "[1, 4, 9, 16]\n"
     ]
    }
   ],
   "source": [
    "## map 함수\n",
    "result_2 = list(map(func_11, l))\n",
    "print(result_2)"
   ]
  },
  {
   "cell_type": "code",
   "execution_count": 184,
   "metadata": {},
   "outputs": [
    {
     "name": "stdout",
     "output_type": "stream",
     "text": [
      "16\n"
     ]
    }
   ],
   "source": [
    "## 람다 함수\n",
    "lamb = lambda x: x**2\n",
    "print(lamb(4))"
   ]
  },
  {
   "attachments": {},
   "cell_type": "markdown",
   "metadata": {},
   "source": [
    "## 함수\n",
    "1. 함수 생성 - def 키워드를 이용해서 생성\n",
    "2. 매개변수 0개부터 생성\n",
    "3. 매개변수의 개수와 인자의 개수는 같아야한다.\n",
    "4. 매개변수에 기본값을 지정하면 인자에 값을 넣지 않아도 함수는 실행"
   ]
  },
  {
   "cell_type": "code",
   "execution_count": null,
   "metadata": {},
   "outputs": [
    {
     "ename": "",
     "evalue": "",
     "output_type": "error",
     "traceback": [
      "\u001b[1;31m커널을 시작하지 못했습니다. \n",
      "\u001b[1;31mJupyter server crashed. Unable to connect. \n",
      "\u001b[1;31mError code from Jupyter: 1\n",
      "\u001b[1;31musage: jupyter.py [-h] [--version] [--config-dir] [--data-dir] [--runtime-dir]\n",
      "\u001b[1;31m                  [--paths] [--json] [--debug]\n",
      "\u001b[1;31m                  [subcommand]\n",
      "\u001b[1;31m\n",
      "\u001b[1;31mJupyter: Interactive Computing\n",
      "\u001b[1;31m\n",
      "\u001b[1;31mpositional arguments:\n",
      "\u001b[1;31m  subcommand     the subcommand to launch\n",
      "\u001b[1;31m\n",
      "\u001b[1;31moptions:\n",
      "\u001b[1;31m  -h, --help     show this help message and exit\n",
      "\u001b[1;31m  --version      show the versions of core jupyter packages and exit\n",
      "\u001b[1;31m  --config-dir   show Jupyter config dir\n",
      "\u001b[1;31m  --data-dir     show Jupyter data dir\n",
      "\u001b[1;31m  --runtime-dir  show Jupyter runtime dir\n",
      "\u001b[1;31m  --paths        show all Jupyter paths. Add --json for machine-readable\n",
      "\u001b[1;31m                 format.\n",
      "\u001b[1;31m  --json         output paths as machine-readable json\n",
      "\u001b[1;31m  --debug        output debug information about paths\n",
      "\u001b[1;31m\n",
      "\u001b[1;31mAvailable subcommands: 1.0.0\n",
      "\u001b[1;31m\n",
      "\u001b[1;31mJupyter command `jupyter-notebook` not found. \n",
      "\u001b[1;31m자세한 내용은 Jupyter <a href='command:jupyter.viewOutput'>로그</a>를 참조하세요."
     ]
    }
   ],
   "source": [
    "##함수생성\n",
    "def func_1(a, b, c, d):\n",
    "    print(a, b, c, d)\n",
    "\n",
    "##함수 호출(매개변수의 개수와 인자의 개수를 동일하게)\n",
    "func_1(1, 2, 3, 4)\n",
    "func_1(4, 3, 2, 1)"
   ]
  },
  {
   "cell_type": "code",
   "execution_count": null,
   "metadata": {},
   "outputs": [
    {
     "ename": "",
     "evalue": "",
     "output_type": "error",
     "traceback": [
      "\u001b[1;31m커널을 시작하지 못했습니다. \n",
      "\u001b[1;31mJupyter server crashed. Unable to connect. \n",
      "\u001b[1;31mError code from Jupyter: 1\n",
      "\u001b[1;31musage: jupyter.py [-h] [--version] [--config-dir] [--data-dir] [--runtime-dir]\n",
      "\u001b[1;31m                  [--paths] [--json] [--debug]\n",
      "\u001b[1;31m                  [subcommand]\n",
      "\u001b[1;31m\n",
      "\u001b[1;31mJupyter: Interactive Computing\n",
      "\u001b[1;31m\n",
      "\u001b[1;31mpositional arguments:\n",
      "\u001b[1;31m  subcommand     the subcommand to launch\n",
      "\u001b[1;31m\n",
      "\u001b[1;31moptions:\n",
      "\u001b[1;31m  -h, --help     show this help message and exit\n",
      "\u001b[1;31m  --version      show the versions of core jupyter packages and exit\n",
      "\u001b[1;31m  --config-dir   show Jupyter config dir\n",
      "\u001b[1;31m  --data-dir     show Jupyter data dir\n",
      "\u001b[1;31m  --runtime-dir  show Jupyter runtime dir\n",
      "\u001b[1;31m  --paths        show all Jupyter paths. Add --json for machine-readable\n",
      "\u001b[1;31m                 format.\n",
      "\u001b[1;31m  --json         output paths as machine-readable json\n",
      "\u001b[1;31m  --debug        output debug information about paths\n",
      "\u001b[1;31m\n",
      "\u001b[1;31mAvailable subcommands: 1.0.0\n",
      "\u001b[1;31m\n",
      "\u001b[1;31mJupyter command `jupyter-notebook` not found. \n",
      "\u001b[1;31m자세한 내용은 Jupyter <a href='command:jupyter.viewOutput'>로그</a>를 참조하세요."
     ]
    }
   ],
   "source": [
    "##매개변수에 기본값 지정하여 함수 생성\n",
    "def func_2(a, b, c=3, d=4):\n",
    "    print(a, b, c, d)\n",
    "\n",
    "##함수호출\n",
    "func_2(1, 2)\n",
    "func_2(1, 2, 3, 5)"
   ]
  },
  {
   "attachments": {},
   "cell_type": "markdown",
   "metadata": {},
   "source": [
    "### 클래스\n",
    "### 크게 2가지로 구성   1.속성  2.매서드\n",
    "\n",
    "# 속성 : 클래스가 가지는 변수\n",
    "# 매서드 : 클래스가 가지는 동작(함수)"
   ]
  },
  {
   "cell_type": "code",
   "execution_count": null,
   "metadata": {},
   "outputs": [],
   "source": []
  },
  {
   "cell_type": "code",
   "execution_count": null,
   "metadata": {},
   "outputs": [],
   "source": []
  }
 ],
 "metadata": {
  "kernelspec": {
   "display_name": "Python 3",
   "language": "python",
   "name": "python3"
  },
  "language_info": {
   "codemirror_mode": {
    "name": "ipython",
    "version": 3
   },
   "file_extension": ".py",
   "mimetype": "text/x-python",
   "name": "python",
   "nbconvert_exporter": "python",
   "pygments_lexer": "ipython3",
   "version": "3.11.1 (tags/v3.11.1:a7a450f, Dec  6 2022, 19:58:39) [MSC v.1934 64 bit (AMD64)]"
  },
  "orig_nbformat": 4,
  "vscode": {
   "interpreter": {
    "hash": "d83fa9b78f6d32ae369e3b25d0bdfb8546935a326f61d3bc2625644343d73d1f"
   }
  }
 },
 "nbformat": 4,
 "nbformat_minor": 2
}
