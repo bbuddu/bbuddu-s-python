{
 "cells": [
  {
   "cell_type": "code",
   "execution_count": 4,
   "metadata": {},
   "outputs": [],
   "source": [
    "#라이브러리 로드\n",
    "import pandas as pd"
   ]
  },
  {
   "cell_type": "code",
   "execution_count": 5,
   "metadata": {},
   "outputs": [
    {
     "data": {
      "text/html": [
       "<div>\n",
       "<style scoped>\n",
       "    .dataframe tbody tr th:only-of-type {\n",
       "        vertical-align: middle;\n",
       "    }\n",
       "\n",
       "    .dataframe tbody tr th {\n",
       "        vertical-align: top;\n",
       "    }\n",
       "\n",
       "    .dataframe thead th {\n",
       "        text-align: right;\n",
       "    }\n",
       "</style>\n",
       "<table border=\"1\" class=\"dataframe\">\n",
       "  <thead>\n",
       "    <tr style=\"text-align: right;\">\n",
       "      <th></th>\n",
       "      <th>Unnamed: 0</th>\n",
       "      <th>createDt</th>\n",
       "      <th>deathCnt</th>\n",
       "      <th>decideCnt</th>\n",
       "      <th>seq</th>\n",
       "      <th>stateDt</th>\n",
       "      <th>stateTime</th>\n",
       "      <th>updateDt</th>\n",
       "      <th>accExamCnt</th>\n",
       "      <th>accDefRate</th>\n",
       "    </tr>\n",
       "  </thead>\n",
       "  <tbody>\n",
       "    <tr>\n",
       "      <th>0</th>\n",
       "      <td>0</td>\n",
       "      <td>2022-06-08 09:09:05.982</td>\n",
       "      <td>24305</td>\n",
       "      <td>18188200</td>\n",
       "      <td>904</td>\n",
       "      <td>20220608</td>\n",
       "      <td>00:00</td>\n",
       "      <td>NaN</td>\n",
       "      <td>NaN</td>\n",
       "      <td>NaN</td>\n",
       "    </tr>\n",
       "    <tr>\n",
       "      <th>1</th>\n",
       "      <td>1</td>\n",
       "      <td>2022-06-07 09:09:00.897</td>\n",
       "      <td>24299</td>\n",
       "      <td>18174842</td>\n",
       "      <td>903</td>\n",
       "      <td>20220607</td>\n",
       "      <td>00:00</td>\n",
       "      <td>2022-06-08 09:10:36.846</td>\n",
       "      <td>NaN</td>\n",
       "      <td>NaN</td>\n",
       "    </tr>\n",
       "    <tr>\n",
       "      <th>2</th>\n",
       "      <td>2</td>\n",
       "      <td>2022-06-06 09:00:06.734</td>\n",
       "      <td>24279</td>\n",
       "      <td>18168670</td>\n",
       "      <td>902</td>\n",
       "      <td>20220606</td>\n",
       "      <td>00:00</td>\n",
       "      <td>2022-06-08 09:10:50.441</td>\n",
       "      <td>NaN</td>\n",
       "      <td>NaN</td>\n",
       "    </tr>\n",
       "    <tr>\n",
       "      <th>3</th>\n",
       "      <td>3</td>\n",
       "      <td>2022-06-05 08:53:19.426</td>\n",
       "      <td>24258</td>\n",
       "      <td>18163648</td>\n",
       "      <td>901</td>\n",
       "      <td>20220605</td>\n",
       "      <td>00:00</td>\n",
       "      <td>2022-06-08 09:11:04.758</td>\n",
       "      <td>NaN</td>\n",
       "      <td>NaN</td>\n",
       "    </tr>\n",
       "    <tr>\n",
       "      <th>4</th>\n",
       "      <td>4</td>\n",
       "      <td>2022-06-04 08:56:49.219</td>\n",
       "      <td>24238</td>\n",
       "      <td>18153814</td>\n",
       "      <td>900</td>\n",
       "      <td>20220604</td>\n",
       "      <td>00:00</td>\n",
       "      <td>2022-06-08 09:11:26.303</td>\n",
       "      <td>NaN</td>\n",
       "      <td>NaN</td>\n",
       "    </tr>\n",
       "  </tbody>\n",
       "</table>\n",
       "</div>"
      ],
      "text/plain": [
       "   Unnamed: 0                 createDt  deathCnt  decideCnt  seq   stateDt  \\\n",
       "0           0  2022-06-08 09:09:05.982     24305   18188200  904  20220608   \n",
       "1           1  2022-06-07 09:09:00.897     24299   18174842  903  20220607   \n",
       "2           2  2022-06-06 09:00:06.734     24279   18168670  902  20220606   \n",
       "3           3  2022-06-05 08:53:19.426     24258   18163648  901  20220605   \n",
       "4           4  2022-06-04 08:56:49.219     24238   18153814  900  20220604   \n",
       "\n",
       "  stateTime                 updateDt  accExamCnt  accDefRate  \n",
       "0     00:00                      NaN         NaN         NaN  \n",
       "1     00:00  2022-06-08 09:10:36.846         NaN         NaN  \n",
       "2     00:00  2022-06-08 09:10:50.441         NaN         NaN  \n",
       "3     00:00  2022-06-08 09:11:04.758         NaN         NaN  \n",
       "4     00:00  2022-06-08 09:11:26.303         NaN         NaN  "
      ]
     },
     "execution_count": 5,
     "metadata": {},
     "output_type": "execute_result"
    }
   ],
   "source": [
    "## 코로나 데이터를 로드\n",
    "## 상위 폴더로 이동 -> csv 폴더로 이동 -> corona.csv 파일 지정\n",
    "corona = pd.read_csv(\"../csv/corona.csv\")\n",
    "corona.head()"
   ]
  },
  {
   "cell_type": "code",
   "execution_count": 11,
   "metadata": {},
   "outputs": [],
   "source": [
    "## 컬럼을 삭제\n",
    "## drop() 함수를 이용하여 컬럼을 삭제---------1=열   0=행\n",
    "## axis라는 매개변수의 값을 기준으로 행, 열을 지정\n",
    "## inplace 매개변수의 값을 기준으로 기준이되는 데이터를 변경을 할지 지정\n",
    "\n",
    "corona.drop([\"Unnamed: 0\"], axis=1)\n",
    "\n",
    "\n",
    "corona.drop([\"Unnamed: 0\"], axis=1, inplace=True)\n",
    "#corona = corona.drop(['Unnamed:0'], axis=1) \n",
    "   "
   ]
  },
  {
   "cell_type": "code",
   "execution_count": 12,
   "metadata": {},
   "outputs": [
    {
     "data": {
      "text/html": [
       "<div>\n",
       "<style scoped>\n",
       "    .dataframe tbody tr th:only-of-type {\n",
       "        vertical-align: middle;\n",
       "    }\n",
       "\n",
       "    .dataframe tbody tr th {\n",
       "        vertical-align: top;\n",
       "    }\n",
       "\n",
       "    .dataframe thead th {\n",
       "        text-align: right;\n",
       "    }\n",
       "</style>\n",
       "<table border=\"1\" class=\"dataframe\">\n",
       "  <thead>\n",
       "    <tr style=\"text-align: right;\">\n",
       "      <th></th>\n",
       "      <th>createDt</th>\n",
       "      <th>deathCnt</th>\n",
       "      <th>decideCnt</th>\n",
       "      <th>seq</th>\n",
       "      <th>stateDt</th>\n",
       "      <th>stateTime</th>\n",
       "      <th>updateDt</th>\n",
       "      <th>accExamCnt</th>\n",
       "      <th>accDefRate</th>\n",
       "    </tr>\n",
       "  </thead>\n",
       "  <tbody>\n",
       "    <tr>\n",
       "      <th>0</th>\n",
       "      <td>2022-06-08 09:09:05.982</td>\n",
       "      <td>24305</td>\n",
       "      <td>18188200</td>\n",
       "      <td>904</td>\n",
       "      <td>20220608</td>\n",
       "      <td>00:00</td>\n",
       "      <td>NaN</td>\n",
       "      <td>NaN</td>\n",
       "      <td>NaN</td>\n",
       "    </tr>\n",
       "    <tr>\n",
       "      <th>1</th>\n",
       "      <td>2022-06-07 09:09:00.897</td>\n",
       "      <td>24299</td>\n",
       "      <td>18174842</td>\n",
       "      <td>903</td>\n",
       "      <td>20220607</td>\n",
       "      <td>00:00</td>\n",
       "      <td>2022-06-08 09:10:36.846</td>\n",
       "      <td>NaN</td>\n",
       "      <td>NaN</td>\n",
       "    </tr>\n",
       "    <tr>\n",
       "      <th>2</th>\n",
       "      <td>2022-06-06 09:00:06.734</td>\n",
       "      <td>24279</td>\n",
       "      <td>18168670</td>\n",
       "      <td>902</td>\n",
       "      <td>20220606</td>\n",
       "      <td>00:00</td>\n",
       "      <td>2022-06-08 09:10:50.441</td>\n",
       "      <td>NaN</td>\n",
       "      <td>NaN</td>\n",
       "    </tr>\n",
       "    <tr>\n",
       "      <th>3</th>\n",
       "      <td>2022-06-05 08:53:19.426</td>\n",
       "      <td>24258</td>\n",
       "      <td>18163648</td>\n",
       "      <td>901</td>\n",
       "      <td>20220605</td>\n",
       "      <td>00:00</td>\n",
       "      <td>2022-06-08 09:11:04.758</td>\n",
       "      <td>NaN</td>\n",
       "      <td>NaN</td>\n",
       "    </tr>\n",
       "    <tr>\n",
       "      <th>4</th>\n",
       "      <td>2022-06-04 08:56:49.219</td>\n",
       "      <td>24238</td>\n",
       "      <td>18153814</td>\n",
       "      <td>900</td>\n",
       "      <td>20220604</td>\n",
       "      <td>00:00</td>\n",
       "      <td>2022-06-08 09:11:26.303</td>\n",
       "      <td>NaN</td>\n",
       "      <td>NaN</td>\n",
       "    </tr>\n",
       "  </tbody>\n",
       "</table>\n",
       "</div>"
      ],
      "text/plain": [
       "                  createDt  deathCnt  decideCnt  seq   stateDt stateTime  \\\n",
       "0  2022-06-08 09:09:05.982     24305   18188200  904  20220608     00:00   \n",
       "1  2022-06-07 09:09:00.897     24299   18174842  903  20220607     00:00   \n",
       "2  2022-06-06 09:00:06.734     24279   18168670  902  20220606     00:00   \n",
       "3  2022-06-05 08:53:19.426     24258   18163648  901  20220605     00:00   \n",
       "4  2022-06-04 08:56:49.219     24238   18153814  900  20220604     00:00   \n",
       "\n",
       "                  updateDt  accExamCnt  accDefRate  \n",
       "0                      NaN         NaN         NaN  \n",
       "1  2022-06-08 09:10:36.846         NaN         NaN  \n",
       "2  2022-06-08 09:10:50.441         NaN         NaN  \n",
       "3  2022-06-08 09:11:04.758         NaN         NaN  \n",
       "4  2022-06-08 09:11:26.303         NaN         NaN  "
      ]
     },
     "execution_count": 12,
     "metadata": {},
     "output_type": "execute_result"
    }
   ],
   "source": [
    "corona.head()"
   ]
  },
  {
   "cell_type": "code",
   "execution_count": 15,
   "metadata": {},
   "outputs": [],
   "source": [
    "## 컬럼의 이름을 변경\n",
    "## 컬럼의 목록 출력 방법\n",
    "corona.columns = ['등록일시','총 사망자','총 확진자','게시글 번호','기준일','기준 시간','수정일시','누적 의심자','누적 확진률']"
   ]
  },
  {
   "cell_type": "code",
   "execution_count": 17,
   "metadata": {},
   "outputs": [
    {
     "data": {
      "text/html": [
       "<div>\n",
       "<style scoped>\n",
       "    .dataframe tbody tr th:only-of-type {\n",
       "        vertical-align: middle;\n",
       "    }\n",
       "\n",
       "    .dataframe tbody tr th {\n",
       "        vertical-align: top;\n",
       "    }\n",
       "\n",
       "    .dataframe thead th {\n",
       "        text-align: right;\n",
       "    }\n",
       "</style>\n",
       "<table border=\"1\" class=\"dataframe\">\n",
       "  <thead>\n",
       "    <tr style=\"text-align: right;\">\n",
       "      <th></th>\n",
       "      <th>등록일시</th>\n",
       "      <th>총 사망자</th>\n",
       "      <th>총 확진자</th>\n",
       "      <th>게시글 번호</th>\n",
       "      <th>기준일</th>\n",
       "      <th>기준 시간</th>\n",
       "      <th>수정일시</th>\n",
       "      <th>누적 의심자</th>\n",
       "      <th>누적 확진률</th>\n",
       "    </tr>\n",
       "  </thead>\n",
       "  <tbody>\n",
       "    <tr>\n",
       "      <th>0</th>\n",
       "      <td>2022-06-08 09:09:05.982</td>\n",
       "      <td>24305</td>\n",
       "      <td>18188200</td>\n",
       "      <td>904</td>\n",
       "      <td>20220608</td>\n",
       "      <td>00:00</td>\n",
       "      <td>NaN</td>\n",
       "      <td>NaN</td>\n",
       "      <td>NaN</td>\n",
       "    </tr>\n",
       "    <tr>\n",
       "      <th>1</th>\n",
       "      <td>2022-06-07 09:09:00.897</td>\n",
       "      <td>24299</td>\n",
       "      <td>18174842</td>\n",
       "      <td>903</td>\n",
       "      <td>20220607</td>\n",
       "      <td>00:00</td>\n",
       "      <td>2022-06-08 09:10:36.846</td>\n",
       "      <td>NaN</td>\n",
       "      <td>NaN</td>\n",
       "    </tr>\n",
       "    <tr>\n",
       "      <th>2</th>\n",
       "      <td>2022-06-06 09:00:06.734</td>\n",
       "      <td>24279</td>\n",
       "      <td>18168670</td>\n",
       "      <td>902</td>\n",
       "      <td>20220606</td>\n",
       "      <td>00:00</td>\n",
       "      <td>2022-06-08 09:10:50.441</td>\n",
       "      <td>NaN</td>\n",
       "      <td>NaN</td>\n",
       "    </tr>\n",
       "    <tr>\n",
       "      <th>3</th>\n",
       "      <td>2022-06-05 08:53:19.426</td>\n",
       "      <td>24258</td>\n",
       "      <td>18163648</td>\n",
       "      <td>901</td>\n",
       "      <td>20220605</td>\n",
       "      <td>00:00</td>\n",
       "      <td>2022-06-08 09:11:04.758</td>\n",
       "      <td>NaN</td>\n",
       "      <td>NaN</td>\n",
       "    </tr>\n",
       "    <tr>\n",
       "      <th>4</th>\n",
       "      <td>2022-06-04 08:56:49.219</td>\n",
       "      <td>24238</td>\n",
       "      <td>18153814</td>\n",
       "      <td>900</td>\n",
       "      <td>20220604</td>\n",
       "      <td>00:00</td>\n",
       "      <td>2022-06-08 09:11:26.303</td>\n",
       "      <td>NaN</td>\n",
       "      <td>NaN</td>\n",
       "    </tr>\n",
       "  </tbody>\n",
       "</table>\n",
       "</div>"
      ],
      "text/plain": [
       "                      등록일시  총 사망자     총 확진자  게시글 번호       기준일  기준 시간  \\\n",
       "0  2022-06-08 09:09:05.982  24305  18188200     904  20220608  00:00   \n",
       "1  2022-06-07 09:09:00.897  24299  18174842     903  20220607  00:00   \n",
       "2  2022-06-06 09:00:06.734  24279  18168670     902  20220606  00:00   \n",
       "3  2022-06-05 08:53:19.426  24258  18163648     901  20220605  00:00   \n",
       "4  2022-06-04 08:56:49.219  24238  18153814     900  20220604  00:00   \n",
       "\n",
       "                      수정일시  누적 의심자  누적 확진률  \n",
       "0                      NaN     NaN     NaN  \n",
       "1  2022-06-08 09:10:36.846     NaN     NaN  \n",
       "2  2022-06-08 09:10:50.441     NaN     NaN  \n",
       "3  2022-06-08 09:11:04.758     NaN     NaN  \n",
       "4  2022-06-08 09:11:26.303     NaN     NaN  "
      ]
     },
     "execution_count": 17,
     "metadata": {},
     "output_type": "execute_result"
    }
   ],
   "source": [
    "corona.head()"
   ]
  },
  {
   "cell_type": "code",
   "execution_count": 22,
   "metadata": {},
   "outputs": [],
   "source": [
    "## 게시글 번호, 기준일, 기준시간 컬럼을 삭제\n",
    "corona.drop(['게시글 번호','기준일','기준 시간'], axis=1, inplace=True)"
   ]
  },
  {
   "cell_type": "code",
   "execution_count": 25,
   "metadata": {},
   "outputs": [],
   "source": [
    "### 데이터프레임의 정렬을 변경\n",
    "### 등록일시를 기준으로 오름차순 정렬로 변경\n",
    "### sort_values([기준이 되는 컬럼명]) 함수 사용\n",
    "### ascending 매개변수의 값이 True(기본값)면 오름차순, False면 내림차순으로 정렬\n",
    "\n",
    "corona.sort_values(['등록일시'], inplace=True)"
   ]
  },
  {
   "cell_type": "code",
   "execution_count": 29,
   "metadata": {},
   "outputs": [],
   "source": [
    "## 인덱스의 값을 초기화\n",
    "## reset_index()\n",
    "corona.reset_index(drop=True, inplace=True)"
   ]
  },
  {
   "cell_type": "code",
   "execution_count": 30,
   "metadata": {},
   "outputs": [
    {
     "name": "stdout",
     "output_type": "stream",
     "text": [
      "<class 'pandas.core.frame.DataFrame'>\n",
      "RangeIndex: 820 entries, 0 to 819\n",
      "Data columns (total 6 columns):\n",
      " #   Column  Non-Null Count  Dtype  \n",
      "---  ------  --------------  -----  \n",
      " 0   등록일시    820 non-null    object \n",
      " 1   총 사망자   820 non-null    int64  \n",
      " 2   총 확진자   820 non-null    int64  \n",
      " 3   수정일시    817 non-null    object \n",
      " 4   누적 의심자  692 non-null    float64\n",
      " 5   누적 확진률  623 non-null    float64\n",
      "dtypes: float64(2), int64(2), object(2)\n",
      "memory usage: 38.6+ KB\n"
     ]
    }
   ],
   "source": [
    "## 결측치 조회\n",
    "corona.info()"
   ]
  },
  {
   "cell_type": "code",
   "execution_count": 31,
   "metadata": {},
   "outputs": [
    {
     "data": {
      "text/plain": [
       "등록일시        0\n",
       "총 사망자       0\n",
       "총 확진자       0\n",
       "수정일시        3\n",
       "누적 의심자    128\n",
       "누적 확진률    197\n",
       "dtype: int64"
      ]
     },
     "execution_count": 31,
     "metadata": {},
     "output_type": "execute_result"
    }
   ],
   "source": [
    "corona.isna().sum()"
   ]
  },
  {
   "cell_type": "code",
   "execution_count": 32,
   "metadata": {},
   "outputs": [
    {
     "data": {
      "text/plain": [
       "0          NaN\n",
       "1        242.0\n",
       "2        114.0\n",
       "3        110.0\n",
       "4        107.0\n",
       "        ...   \n",
       "815    12039.0\n",
       "816     9834.0\n",
       "817     5022.0\n",
       "818     6172.0\n",
       "819    13358.0\n",
       "Name: 총 확진자, Length: 820, dtype: float64"
      ]
     },
     "execution_count": 32,
     "metadata": {},
     "output_type": "execute_result"
    }
   ],
   "source": [
    "## 데이터 간의 차이를 출력하는 함수\n",
    "## diff(n)  : n은 인덱스의 이동 횟수 (n은 기본값 1)\n",
    "corona['총 확진자'].diff()"
   ]
  },
  {
   "cell_type": "code",
   "execution_count": 33,
   "metadata": {},
   "outputs": [],
   "source": [
    "corona['일일 확진자'] = corona['총 확진자'].diff()"
   ]
  },
  {
   "cell_type": "code",
   "execution_count": 34,
   "metadata": {},
   "outputs": [
    {
     "data": {
      "text/html": [
       "<div>\n",
       "<style scoped>\n",
       "    .dataframe tbody tr th:only-of-type {\n",
       "        vertical-align: middle;\n",
       "    }\n",
       "\n",
       "    .dataframe tbody tr th {\n",
       "        vertical-align: top;\n",
       "    }\n",
       "\n",
       "    .dataframe thead th {\n",
       "        text-align: right;\n",
       "    }\n",
       "</style>\n",
       "<table border=\"1\" class=\"dataframe\">\n",
       "  <thead>\n",
       "    <tr style=\"text-align: right;\">\n",
       "      <th></th>\n",
       "      <th>등록일시</th>\n",
       "      <th>총 사망자</th>\n",
       "      <th>총 확진자</th>\n",
       "      <th>수정일시</th>\n",
       "      <th>누적 의심자</th>\n",
       "      <th>누적 확진률</th>\n",
       "      <th>일일 확진자</th>\n",
       "    </tr>\n",
       "  </thead>\n",
       "  <tbody>\n",
       "    <tr>\n",
       "      <th>0</th>\n",
       "      <td>2020-03-10 00:00:00.000</td>\n",
       "      <td>54</td>\n",
       "      <td>7513</td>\n",
       "      <td>2021-10-07 10:30:51.51</td>\n",
       "      <td>210144.0</td>\n",
       "      <td>3.919308</td>\n",
       "      <td>NaN</td>\n",
       "    </tr>\n",
       "    <tr>\n",
       "      <th>1</th>\n",
       "      <td>2020-03-11 00:00:00.000</td>\n",
       "      <td>60</td>\n",
       "      <td>7755</td>\n",
       "      <td>2021-10-07 10:30:51.51</td>\n",
       "      <td>222395.0</td>\n",
       "      <td>3.804175</td>\n",
       "      <td>242.0</td>\n",
       "    </tr>\n",
       "    <tr>\n",
       "      <th>2</th>\n",
       "      <td>2020-03-12 00:00:00.000</td>\n",
       "      <td>66</td>\n",
       "      <td>7869</td>\n",
       "      <td>2021-10-07 10:30:51.51</td>\n",
       "      <td>234998.0</td>\n",
       "      <td>3.621744</td>\n",
       "      <td>114.0</td>\n",
       "    </tr>\n",
       "    <tr>\n",
       "      <th>3</th>\n",
       "      <td>2020-03-13 00:00:00.000</td>\n",
       "      <td>67</td>\n",
       "      <td>7979</td>\n",
       "      <td>2021-10-07 10:30:51.51</td>\n",
       "      <td>248647.0</td>\n",
       "      <td>3.458499</td>\n",
       "      <td>110.0</td>\n",
       "    </tr>\n",
       "    <tr>\n",
       "      <th>4</th>\n",
       "      <td>2020-03-14 00:00:00.000</td>\n",
       "      <td>72</td>\n",
       "      <td>8086</td>\n",
       "      <td>2021-10-07 10:30:51.51</td>\n",
       "      <td>261335.0</td>\n",
       "      <td>3.318000</td>\n",
       "      <td>107.0</td>\n",
       "    </tr>\n",
       "    <tr>\n",
       "      <th>...</th>\n",
       "      <td>...</td>\n",
       "      <td>...</td>\n",
       "      <td>...</td>\n",
       "      <td>...</td>\n",
       "      <td>...</td>\n",
       "      <td>...</td>\n",
       "      <td>...</td>\n",
       "    </tr>\n",
       "    <tr>\n",
       "      <th>815</th>\n",
       "      <td>2022-06-04 08:56:49.219</td>\n",
       "      <td>24238</td>\n",
       "      <td>18153814</td>\n",
       "      <td>2022-06-08 09:11:26.303</td>\n",
       "      <td>NaN</td>\n",
       "      <td>NaN</td>\n",
       "      <td>12039.0</td>\n",
       "    </tr>\n",
       "    <tr>\n",
       "      <th>816</th>\n",
       "      <td>2022-06-05 08:53:19.426</td>\n",
       "      <td>24258</td>\n",
       "      <td>18163648</td>\n",
       "      <td>2022-06-08 09:11:04.758</td>\n",
       "      <td>NaN</td>\n",
       "      <td>NaN</td>\n",
       "      <td>9834.0</td>\n",
       "    </tr>\n",
       "    <tr>\n",
       "      <th>817</th>\n",
       "      <td>2022-06-06 09:00:06.734</td>\n",
       "      <td>24279</td>\n",
       "      <td>18168670</td>\n",
       "      <td>2022-06-08 09:10:50.441</td>\n",
       "      <td>NaN</td>\n",
       "      <td>NaN</td>\n",
       "      <td>5022.0</td>\n",
       "    </tr>\n",
       "    <tr>\n",
       "      <th>818</th>\n",
       "      <td>2022-06-07 09:09:00.897</td>\n",
       "      <td>24299</td>\n",
       "      <td>18174842</td>\n",
       "      <td>2022-06-08 09:10:36.846</td>\n",
       "      <td>NaN</td>\n",
       "      <td>NaN</td>\n",
       "      <td>6172.0</td>\n",
       "    </tr>\n",
       "    <tr>\n",
       "      <th>819</th>\n",
       "      <td>2022-06-08 09:09:05.982</td>\n",
       "      <td>24305</td>\n",
       "      <td>18188200</td>\n",
       "      <td>NaN</td>\n",
       "      <td>NaN</td>\n",
       "      <td>NaN</td>\n",
       "      <td>13358.0</td>\n",
       "    </tr>\n",
       "  </tbody>\n",
       "</table>\n",
       "<p>820 rows × 7 columns</p>\n",
       "</div>"
      ],
      "text/plain": [
       "                        등록일시  총 사망자     총 확진자                     수정일시  \\\n",
       "0    2020-03-10 00:00:00.000     54      7513   2021-10-07 10:30:51.51   \n",
       "1    2020-03-11 00:00:00.000     60      7755   2021-10-07 10:30:51.51   \n",
       "2    2020-03-12 00:00:00.000     66      7869   2021-10-07 10:30:51.51   \n",
       "3    2020-03-13 00:00:00.000     67      7979   2021-10-07 10:30:51.51   \n",
       "4    2020-03-14 00:00:00.000     72      8086   2021-10-07 10:30:51.51   \n",
       "..                       ...    ...       ...                      ...   \n",
       "815  2022-06-04 08:56:49.219  24238  18153814  2022-06-08 09:11:26.303   \n",
       "816  2022-06-05 08:53:19.426  24258  18163648  2022-06-08 09:11:04.758   \n",
       "817  2022-06-06 09:00:06.734  24279  18168670  2022-06-08 09:10:50.441   \n",
       "818  2022-06-07 09:09:00.897  24299  18174842  2022-06-08 09:10:36.846   \n",
       "819  2022-06-08 09:09:05.982  24305  18188200                      NaN   \n",
       "\n",
       "       누적 의심자    누적 확진률   일일 확진자  \n",
       "0    210144.0  3.919308      NaN  \n",
       "1    222395.0  3.804175    242.0  \n",
       "2    234998.0  3.621744    114.0  \n",
       "3    248647.0  3.458499    110.0  \n",
       "4    261335.0  3.318000    107.0  \n",
       "..        ...       ...      ...  \n",
       "815       NaN       NaN  12039.0  \n",
       "816       NaN       NaN   9834.0  \n",
       "817       NaN       NaN   5022.0  \n",
       "818       NaN       NaN   6172.0  \n",
       "819       NaN       NaN  13358.0  \n",
       "\n",
       "[820 rows x 7 columns]"
      ]
     },
     "execution_count": 34,
     "metadata": {},
     "output_type": "execute_result"
    }
   ],
   "source": [
    "corona"
   ]
  },
  {
   "cell_type": "code",
   "execution_count": 35,
   "metadata": {},
   "outputs": [],
   "source": [
    "## 일일 사망자 컬럼을 생성\n",
    "corona['일일 사망자'] = corona['총 사망자'].diff()"
   ]
  },
  {
   "cell_type": "code",
   "execution_count": 36,
   "metadata": {},
   "outputs": [
    {
     "data": {
      "text/html": [
       "<div>\n",
       "<style scoped>\n",
       "    .dataframe tbody tr th:only-of-type {\n",
       "        vertical-align: middle;\n",
       "    }\n",
       "\n",
       "    .dataframe tbody tr th {\n",
       "        vertical-align: top;\n",
       "    }\n",
       "\n",
       "    .dataframe thead th {\n",
       "        text-align: right;\n",
       "    }\n",
       "</style>\n",
       "<table border=\"1\" class=\"dataframe\">\n",
       "  <thead>\n",
       "    <tr style=\"text-align: right;\">\n",
       "      <th></th>\n",
       "      <th>등록일시</th>\n",
       "      <th>총 사망자</th>\n",
       "      <th>총 확진자</th>\n",
       "      <th>수정일시</th>\n",
       "      <th>누적 의심자</th>\n",
       "      <th>누적 확진률</th>\n",
       "      <th>일일 확진자</th>\n",
       "      <th>일일 사망자</th>\n",
       "    </tr>\n",
       "  </thead>\n",
       "  <tbody>\n",
       "    <tr>\n",
       "      <th>0</th>\n",
       "      <td>2020-03-10 00:00:00.000</td>\n",
       "      <td>54</td>\n",
       "      <td>7513</td>\n",
       "      <td>2021-10-07 10:30:51.51</td>\n",
       "      <td>210144.0</td>\n",
       "      <td>3.919308</td>\n",
       "      <td>NaN</td>\n",
       "      <td>NaN</td>\n",
       "    </tr>\n",
       "    <tr>\n",
       "      <th>1</th>\n",
       "      <td>2020-03-11 00:00:00.000</td>\n",
       "      <td>60</td>\n",
       "      <td>7755</td>\n",
       "      <td>2021-10-07 10:30:51.51</td>\n",
       "      <td>222395.0</td>\n",
       "      <td>3.804175</td>\n",
       "      <td>242.0</td>\n",
       "      <td>6.0</td>\n",
       "    </tr>\n",
       "    <tr>\n",
       "      <th>2</th>\n",
       "      <td>2020-03-12 00:00:00.000</td>\n",
       "      <td>66</td>\n",
       "      <td>7869</td>\n",
       "      <td>2021-10-07 10:30:51.51</td>\n",
       "      <td>234998.0</td>\n",
       "      <td>3.621744</td>\n",
       "      <td>114.0</td>\n",
       "      <td>6.0</td>\n",
       "    </tr>\n",
       "    <tr>\n",
       "      <th>3</th>\n",
       "      <td>2020-03-13 00:00:00.000</td>\n",
       "      <td>67</td>\n",
       "      <td>7979</td>\n",
       "      <td>2021-10-07 10:30:51.51</td>\n",
       "      <td>248647.0</td>\n",
       "      <td>3.458499</td>\n",
       "      <td>110.0</td>\n",
       "      <td>1.0</td>\n",
       "    </tr>\n",
       "    <tr>\n",
       "      <th>4</th>\n",
       "      <td>2020-03-14 00:00:00.000</td>\n",
       "      <td>72</td>\n",
       "      <td>8086</td>\n",
       "      <td>2021-10-07 10:30:51.51</td>\n",
       "      <td>261335.0</td>\n",
       "      <td>3.318000</td>\n",
       "      <td>107.0</td>\n",
       "      <td>5.0</td>\n",
       "    </tr>\n",
       "    <tr>\n",
       "      <th>...</th>\n",
       "      <td>...</td>\n",
       "      <td>...</td>\n",
       "      <td>...</td>\n",
       "      <td>...</td>\n",
       "      <td>...</td>\n",
       "      <td>...</td>\n",
       "      <td>...</td>\n",
       "      <td>...</td>\n",
       "    </tr>\n",
       "    <tr>\n",
       "      <th>815</th>\n",
       "      <td>2022-06-04 08:56:49.219</td>\n",
       "      <td>24238</td>\n",
       "      <td>18153814</td>\n",
       "      <td>2022-06-08 09:11:26.303</td>\n",
       "      <td>NaN</td>\n",
       "      <td>NaN</td>\n",
       "      <td>12039.0</td>\n",
       "      <td>9.0</td>\n",
       "    </tr>\n",
       "    <tr>\n",
       "      <th>816</th>\n",
       "      <td>2022-06-05 08:53:19.426</td>\n",
       "      <td>24258</td>\n",
       "      <td>18163648</td>\n",
       "      <td>2022-06-08 09:11:04.758</td>\n",
       "      <td>NaN</td>\n",
       "      <td>NaN</td>\n",
       "      <td>9834.0</td>\n",
       "      <td>20.0</td>\n",
       "    </tr>\n",
       "    <tr>\n",
       "      <th>817</th>\n",
       "      <td>2022-06-06 09:00:06.734</td>\n",
       "      <td>24279</td>\n",
       "      <td>18168670</td>\n",
       "      <td>2022-06-08 09:10:50.441</td>\n",
       "      <td>NaN</td>\n",
       "      <td>NaN</td>\n",
       "      <td>5022.0</td>\n",
       "      <td>21.0</td>\n",
       "    </tr>\n",
       "    <tr>\n",
       "      <th>818</th>\n",
       "      <td>2022-06-07 09:09:00.897</td>\n",
       "      <td>24299</td>\n",
       "      <td>18174842</td>\n",
       "      <td>2022-06-08 09:10:36.846</td>\n",
       "      <td>NaN</td>\n",
       "      <td>NaN</td>\n",
       "      <td>6172.0</td>\n",
       "      <td>20.0</td>\n",
       "    </tr>\n",
       "    <tr>\n",
       "      <th>819</th>\n",
       "      <td>2022-06-08 09:09:05.982</td>\n",
       "      <td>24305</td>\n",
       "      <td>18188200</td>\n",
       "      <td>NaN</td>\n",
       "      <td>NaN</td>\n",
       "      <td>NaN</td>\n",
       "      <td>13358.0</td>\n",
       "      <td>6.0</td>\n",
       "    </tr>\n",
       "  </tbody>\n",
       "</table>\n",
       "<p>820 rows × 8 columns</p>\n",
       "</div>"
      ],
      "text/plain": [
       "                        등록일시  총 사망자     총 확진자                     수정일시  \\\n",
       "0    2020-03-10 00:00:00.000     54      7513   2021-10-07 10:30:51.51   \n",
       "1    2020-03-11 00:00:00.000     60      7755   2021-10-07 10:30:51.51   \n",
       "2    2020-03-12 00:00:00.000     66      7869   2021-10-07 10:30:51.51   \n",
       "3    2020-03-13 00:00:00.000     67      7979   2021-10-07 10:30:51.51   \n",
       "4    2020-03-14 00:00:00.000     72      8086   2021-10-07 10:30:51.51   \n",
       "..                       ...    ...       ...                      ...   \n",
       "815  2022-06-04 08:56:49.219  24238  18153814  2022-06-08 09:11:26.303   \n",
       "816  2022-06-05 08:53:19.426  24258  18163648  2022-06-08 09:11:04.758   \n",
       "817  2022-06-06 09:00:06.734  24279  18168670  2022-06-08 09:10:50.441   \n",
       "818  2022-06-07 09:09:00.897  24299  18174842  2022-06-08 09:10:36.846   \n",
       "819  2022-06-08 09:09:05.982  24305  18188200                      NaN   \n",
       "\n",
       "       누적 의심자    누적 확진률   일일 확진자  일일 사망자  \n",
       "0    210144.0  3.919308      NaN     NaN  \n",
       "1    222395.0  3.804175    242.0     6.0  \n",
       "2    234998.0  3.621744    114.0     6.0  \n",
       "3    248647.0  3.458499    110.0     1.0  \n",
       "4    261335.0  3.318000    107.0     5.0  \n",
       "..        ...       ...      ...     ...  \n",
       "815       NaN       NaN  12039.0     9.0  \n",
       "816       NaN       NaN   9834.0    20.0  \n",
       "817       NaN       NaN   5022.0    21.0  \n",
       "818       NaN       NaN   6172.0    20.0  \n",
       "819       NaN       NaN  13358.0     6.0  \n",
       "\n",
       "[820 rows x 8 columns]"
      ]
     },
     "execution_count": 36,
     "metadata": {},
     "output_type": "execute_result"
    }
   ],
   "source": [
    "corona"
   ]
  },
  {
   "cell_type": "code",
   "execution_count": 37,
   "metadata": {},
   "outputs": [
    {
     "data": {
      "text/plain": [
       "0          NaN\n",
       "1         54.0\n",
       "2         60.0\n",
       "3         66.0\n",
       "4         67.0\n",
       "        ...   \n",
       "815    24229.0\n",
       "816    24238.0\n",
       "817    24258.0\n",
       "818    24279.0\n",
       "819    24299.0\n",
       "Name: 총 사망자, Length: 820, dtype: float64"
      ]
     },
     "execution_count": 37,
     "metadata": {},
     "output_type": "execute_result"
    }
   ],
   "source": [
    "## 인덱스를 이동\n",
    "## shift(n) n만큼 인덱스 이동\n",
    "\n",
    "corona['총 사망자'].shift(1)"
   ]
  },
  {
   "cell_type": "code",
   "execution_count": 38,
   "metadata": {},
   "outputs": [
    {
     "data": {
      "text/plain": [
       "0       NaN\n",
       "1       6.0\n",
       "2       6.0\n",
       "3       1.0\n",
       "4       5.0\n",
       "       ... \n",
       "815     9.0\n",
       "816    20.0\n",
       "817    21.0\n",
       "818    20.0\n",
       "819     6.0\n",
       "Name: 총 사망자, Length: 820, dtype: float64"
      ]
     },
     "execution_count": 38,
     "metadata": {},
     "output_type": "execute_result"
    }
   ],
   "source": [
    "corona['총 사망자'] - corona['총 사망자'].shift(1)"
   ]
  },
  {
   "cell_type": "code",
   "execution_count": 44,
   "metadata": {},
   "outputs": [],
   "source": [
    "## 결측치를 다른 값으로 대체\n",
    "## fillna(n) : 결측치를 n으로 채워준다.\n",
    "\n",
    "## 일일 확진자, 일일 사망자의 결측치를 0으로 대체\n",
    "corona[['일일확진자','일일 사망자']] = corona[['일일 확진자','일일 사망자']].fillna(0)"
   ]
  },
  {
   "cell_type": "code",
   "execution_count": 45,
   "metadata": {},
   "outputs": [
    {
     "data": {
      "text/html": [
       "<div>\n",
       "<style scoped>\n",
       "    .dataframe tbody tr th:only-of-type {\n",
       "        vertical-align: middle;\n",
       "    }\n",
       "\n",
       "    .dataframe tbody tr th {\n",
       "        vertical-align: top;\n",
       "    }\n",
       "\n",
       "    .dataframe thead th {\n",
       "        text-align: right;\n",
       "    }\n",
       "</style>\n",
       "<table border=\"1\" class=\"dataframe\">\n",
       "  <thead>\n",
       "    <tr style=\"text-align: right;\">\n",
       "      <th></th>\n",
       "      <th>등록일시</th>\n",
       "      <th>총 사망자</th>\n",
       "      <th>총 확진자</th>\n",
       "      <th>수정일시</th>\n",
       "      <th>누적 의심자</th>\n",
       "      <th>누적 확진률</th>\n",
       "      <th>일일 확진자</th>\n",
       "      <th>일일 사망자</th>\n",
       "      <th>일일확진자</th>\n",
       "    </tr>\n",
       "  </thead>\n",
       "  <tbody>\n",
       "    <tr>\n",
       "      <th>0</th>\n",
       "      <td>2020-03-10 00:00:00.000</td>\n",
       "      <td>54</td>\n",
       "      <td>7513</td>\n",
       "      <td>2021-10-07 10:30:51.51</td>\n",
       "      <td>210144.0</td>\n",
       "      <td>3.919308</td>\n",
       "      <td>NaN</td>\n",
       "      <td>0.0</td>\n",
       "      <td>0.0</td>\n",
       "    </tr>\n",
       "    <tr>\n",
       "      <th>1</th>\n",
       "      <td>2020-03-11 00:00:00.000</td>\n",
       "      <td>60</td>\n",
       "      <td>7755</td>\n",
       "      <td>2021-10-07 10:30:51.51</td>\n",
       "      <td>222395.0</td>\n",
       "      <td>3.804175</td>\n",
       "      <td>242.0</td>\n",
       "      <td>6.0</td>\n",
       "      <td>242.0</td>\n",
       "    </tr>\n",
       "    <tr>\n",
       "      <th>2</th>\n",
       "      <td>2020-03-12 00:00:00.000</td>\n",
       "      <td>66</td>\n",
       "      <td>7869</td>\n",
       "      <td>2021-10-07 10:30:51.51</td>\n",
       "      <td>234998.0</td>\n",
       "      <td>3.621744</td>\n",
       "      <td>114.0</td>\n",
       "      <td>6.0</td>\n",
       "      <td>114.0</td>\n",
       "    </tr>\n",
       "    <tr>\n",
       "      <th>3</th>\n",
       "      <td>2020-03-13 00:00:00.000</td>\n",
       "      <td>67</td>\n",
       "      <td>7979</td>\n",
       "      <td>2021-10-07 10:30:51.51</td>\n",
       "      <td>248647.0</td>\n",
       "      <td>3.458499</td>\n",
       "      <td>110.0</td>\n",
       "      <td>1.0</td>\n",
       "      <td>110.0</td>\n",
       "    </tr>\n",
       "    <tr>\n",
       "      <th>4</th>\n",
       "      <td>2020-03-14 00:00:00.000</td>\n",
       "      <td>72</td>\n",
       "      <td>8086</td>\n",
       "      <td>2021-10-07 10:30:51.51</td>\n",
       "      <td>261335.0</td>\n",
       "      <td>3.318000</td>\n",
       "      <td>107.0</td>\n",
       "      <td>5.0</td>\n",
       "      <td>107.0</td>\n",
       "    </tr>\n",
       "  </tbody>\n",
       "</table>\n",
       "</div>"
      ],
      "text/plain": [
       "                      등록일시  총 사망자  총 확진자                    수정일시    누적 의심자  \\\n",
       "0  2020-03-10 00:00:00.000     54   7513  2021-10-07 10:30:51.51  210144.0   \n",
       "1  2020-03-11 00:00:00.000     60   7755  2021-10-07 10:30:51.51  222395.0   \n",
       "2  2020-03-12 00:00:00.000     66   7869  2021-10-07 10:30:51.51  234998.0   \n",
       "3  2020-03-13 00:00:00.000     67   7979  2021-10-07 10:30:51.51  248647.0   \n",
       "4  2020-03-14 00:00:00.000     72   8086  2021-10-07 10:30:51.51  261335.0   \n",
       "\n",
       "     누적 확진률  일일 확진자  일일 사망자  일일확진자  \n",
       "0  3.919308     NaN     0.0    0.0  \n",
       "1  3.804175   242.0     6.0  242.0  \n",
       "2  3.621744   114.0     6.0  114.0  \n",
       "3  3.458499   110.0     1.0  110.0  \n",
       "4  3.318000   107.0     5.0  107.0  "
      ]
     },
     "execution_count": 45,
     "metadata": {},
     "output_type": "execute_result"
    }
   ],
   "source": [
    "corona.head()"
   ]
  },
  {
   "cell_type": "code",
   "execution_count": 46,
   "metadata": {},
   "outputs": [],
   "source": [
    "## fillna() method 매개변수 -> fill(앞 데이터로 결측치를 메꿈), bfill(뒷 데이터로 결측치를 메꿈)"
   ]
  },
  {
   "cell_type": "code",
   "execution_count": 47,
   "metadata": {},
   "outputs": [],
   "source": [
    "corona['누적 의심자'] = corona['누적 의심자'].fillna(method='ffill')"
   ]
  },
  {
   "cell_type": "code",
   "execution_count": 48,
   "metadata": {},
   "outputs": [
    {
     "data": {
      "text/html": [
       "<div>\n",
       "<style scoped>\n",
       "    .dataframe tbody tr th:only-of-type {\n",
       "        vertical-align: middle;\n",
       "    }\n",
       "\n",
       "    .dataframe tbody tr th {\n",
       "        vertical-align: top;\n",
       "    }\n",
       "\n",
       "    .dataframe thead th {\n",
       "        text-align: right;\n",
       "    }\n",
       "</style>\n",
       "<table border=\"1\" class=\"dataframe\">\n",
       "  <thead>\n",
       "    <tr style=\"text-align: right;\">\n",
       "      <th></th>\n",
       "      <th>등록일시</th>\n",
       "      <th>총 사망자</th>\n",
       "      <th>총 확진자</th>\n",
       "      <th>수정일시</th>\n",
       "      <th>누적 의심자</th>\n",
       "      <th>누적 확진률</th>\n",
       "      <th>일일 확진자</th>\n",
       "      <th>일일 사망자</th>\n",
       "      <th>일일확진자</th>\n",
       "    </tr>\n",
       "  </thead>\n",
       "  <tbody>\n",
       "    <tr>\n",
       "      <th>690</th>\n",
       "      <td>2022-01-30 09:13:00.269</td>\n",
       "      <td>6732</td>\n",
       "      <td>828611</td>\n",
       "      <td>2022-02-07 09:05:54.937</td>\n",
       "      <td>21448119.0</td>\n",
       "      <td>NaN</td>\n",
       "      <td>17522.0</td>\n",
       "      <td>20.0</td>\n",
       "      <td>17522.0</td>\n",
       "    </tr>\n",
       "    <tr>\n",
       "      <th>691</th>\n",
       "      <td>2022-01-31 09:22:37.347</td>\n",
       "      <td>6755</td>\n",
       "      <td>845688</td>\n",
       "      <td>2022-02-07 09:06:04.861</td>\n",
       "      <td>21518073.0</td>\n",
       "      <td>NaN</td>\n",
       "      <td>17077.0</td>\n",
       "      <td>23.0</td>\n",
       "      <td>17077.0</td>\n",
       "    </tr>\n",
       "    <tr>\n",
       "      <th>692</th>\n",
       "      <td>2022-02-01 09:06:24.411</td>\n",
       "      <td>6772</td>\n",
       "      <td>864026</td>\n",
       "      <td>2022-02-09 13:04:21.424</td>\n",
       "      <td>21518073.0</td>\n",
       "      <td>NaN</td>\n",
       "      <td>18338.0</td>\n",
       "      <td>17.0</td>\n",
       "      <td>18338.0</td>\n",
       "    </tr>\n",
       "    <tr>\n",
       "      <th>693</th>\n",
       "      <td>2022-02-02 09:04:49.92</td>\n",
       "      <td>6787</td>\n",
       "      <td>884294</td>\n",
       "      <td>2022-02-09 13:04:29.013</td>\n",
       "      <td>21518073.0</td>\n",
       "      <td>NaN</td>\n",
       "      <td>20268.0</td>\n",
       "      <td>15.0</td>\n",
       "      <td>20268.0</td>\n",
       "    </tr>\n",
       "    <tr>\n",
       "      <th>694</th>\n",
       "      <td>2022-02-03 08:46:14.856</td>\n",
       "      <td>6812</td>\n",
       "      <td>907200</td>\n",
       "      <td>2022-02-09 13:04:42.741</td>\n",
       "      <td>21518073.0</td>\n",
       "      <td>NaN</td>\n",
       "      <td>22906.0</td>\n",
       "      <td>25.0</td>\n",
       "      <td>22906.0</td>\n",
       "    </tr>\n",
       "  </tbody>\n",
       "</table>\n",
       "</div>"
      ],
      "text/plain": [
       "                        등록일시  총 사망자   총 확진자                     수정일시  \\\n",
       "690  2022-01-30 09:13:00.269   6732  828611  2022-02-07 09:05:54.937   \n",
       "691  2022-01-31 09:22:37.347   6755  845688  2022-02-07 09:06:04.861   \n",
       "692  2022-02-01 09:06:24.411   6772  864026  2022-02-09 13:04:21.424   \n",
       "693   2022-02-02 09:04:49.92   6787  884294  2022-02-09 13:04:29.013   \n",
       "694  2022-02-03 08:46:14.856   6812  907200  2022-02-09 13:04:42.741   \n",
       "\n",
       "         누적 의심자  누적 확진률   일일 확진자  일일 사망자    일일확진자  \n",
       "690  21448119.0     NaN  17522.0    20.0  17522.0  \n",
       "691  21518073.0     NaN  17077.0    23.0  17077.0  \n",
       "692  21518073.0     NaN  18338.0    17.0  18338.0  \n",
       "693  21518073.0     NaN  20268.0    15.0  20268.0  \n",
       "694  21518073.0     NaN  22906.0    25.0  22906.0  "
      ]
     },
     "execution_count": 48,
     "metadata": {},
     "output_type": "execute_result"
    }
   ],
   "source": [
    "corona.iloc[690:695]"
   ]
  },
  {
   "cell_type": "code",
   "execution_count": 49,
   "metadata": {},
   "outputs": [
    {
     "name": "stdout",
     "output_type": "stream",
     "text": [
      "Collecting matplotlib\n",
      "  Downloading matplotlib-3.6.3-cp311-cp311-win_amd64.whl (7.2 MB)\n",
      "     ---------------------------------------- 0.0/7.2 MB ? eta -:--:--\n",
      "     -- ------------------------------------- 0.4/7.2 MB 12.8 MB/s eta 0:00:01\n",
      "     ---- ----------------------------------- 0.9/7.2 MB 13.5 MB/s eta 0:00:01\n",
      "     ------- -------------------------------- 1.3/7.2 MB 13.5 MB/s eta 0:00:01\n",
      "     --------- ------------------------------ 1.7/7.2 MB 12.0 MB/s eta 0:00:01\n",
      "     ----------- ---------------------------- 2.0/7.2 MB 11.7 MB/s eta 0:00:01\n",
      "     ------------ --------------------------- 2.2/7.2 MB 10.8 MB/s eta 0:00:01\n",
      "     ------------- -------------------------- 2.4/7.2 MB 10.0 MB/s eta 0:00:01\n",
      "     -------------- ------------------------- 2.6/7.2 MB 9.0 MB/s eta 0:00:01\n",
      "     --------------- ------------------------ 2.8/7.2 MB 8.8 MB/s eta 0:00:01\n",
      "     ---------------- ----------------------- 2.9/7.2 MB 8.5 MB/s eta 0:00:01\n",
      "     ----------------- ---------------------- 3.1/7.2 MB 8.0 MB/s eta 0:00:01\n",
      "     ------------------ --------------------- 3.3/7.2 MB 7.9 MB/s eta 0:00:01\n",
      "     ------------------- -------------------- 3.5/7.2 MB 7.7 MB/s eta 0:00:01\n",
      "     -------------------- ------------------- 3.8/7.2 MB 7.7 MB/s eta 0:00:01\n",
      "     ---------------------- ----------------- 4.0/7.2 MB 7.4 MB/s eta 0:00:01\n",
      "     ----------------------- ---------------- 4.3/7.2 MB 7.5 MB/s eta 0:00:01\n",
      "     ------------------------- -------------- 4.7/7.2 MB 7.7 MB/s eta 0:00:01\n",
      "     ---------------------------- ----------- 5.1/7.2 MB 8.0 MB/s eta 0:00:01\n",
      "     ------------------------------ --------- 5.5/7.2 MB 8.0 MB/s eta 0:00:01\n",
      "     -------------------------------- ------- 5.9/7.2 MB 8.1 MB/s eta 0:00:01\n",
      "     ---------------------------------- ----- 6.3/7.2 MB 8.2 MB/s eta 0:00:01\n",
      "     ------------------------------------- -- 6.7/7.2 MB 8.4 MB/s eta 0:00:01\n",
      "     ---------------------------------------  7.1/7.2 MB 8.4 MB/s eta 0:00:01\n",
      "     ---------------------------------------  7.2/7.2 MB 8.5 MB/s eta 0:00:01\n",
      "     ---------------------------------------- 7.2/7.2 MB 7.9 MB/s eta 0:00:00\n",
      "Collecting contourpy>=1.0.1\n",
      "  Downloading contourpy-1.0.7-cp311-cp311-win_amd64.whl (162 kB)\n",
      "     ---------------------------------------- 0.0/163.0 kB ? eta -:--:--\n",
      "     -------------------------------------- 163.0/163.0 kB 9.5 MB/s eta 0:00:00\n",
      "Collecting cycler>=0.10\n",
      "  Downloading cycler-0.11.0-py3-none-any.whl (6.4 kB)\n",
      "Collecting fonttools>=4.22.0\n",
      "  Downloading fonttools-4.38.0-py3-none-any.whl (965 kB)\n",
      "     ---------------------------------------- 0.0/965.4 kB ? eta -:--:--\n",
      "     ---------------- -------------------- 419.8/965.4 kB 13.2 MB/s eta 0:00:01\n",
      "     -------------------------------- ---- 839.7/965.4 kB 13.4 MB/s eta 0:00:01\n",
      "     ------------------------------------- 965.4/965.4 kB 10.2 MB/s eta 0:00:00\n",
      "Collecting kiwisolver>=1.0.1\n",
      "  Downloading kiwisolver-1.4.4-cp311-cp311-win_amd64.whl (55 kB)\n",
      "     ---------------------------------------- 0.0/55.4 kB ? eta -:--:--\n",
      "     ---------------------------------------- 55.4/55.4 kB 3.0 MB/s eta 0:00:00\n",
      "Requirement already satisfied: numpy>=1.19 in c:\\users\\ezen\\appdata\\local\\programs\\python\\python311\\lib\\site-packages (from matplotlib) (1.24.1)\n",
      "Requirement already satisfied: packaging>=20.0 in c:\\users\\ezen\\appdata\\roaming\\python\\python311\\site-packages (from matplotlib) (23.0)\n",
      "Collecting pillow>=6.2.0\n",
      "  Downloading Pillow-9.4.0-cp311-cp311-win_amd64.whl (2.5 MB)\n",
      "     ---------------------------------------- 0.0/2.5 MB ? eta -:--:--\n",
      "     ------- -------------------------------- 0.4/2.5 MB 9.2 MB/s eta 0:00:01\n",
      "     ------------- -------------------------- 0.9/2.5 MB 10.9 MB/s eta 0:00:01\n",
      "     -------------------- ------------------- 1.3/2.5 MB 11.6 MB/s eta 0:00:01\n",
      "     --------------------------- ------------ 1.7/2.5 MB 11.9 MB/s eta 0:00:01\n",
      "     ---------------------------------- ----- 2.1/2.5 MB 11.2 MB/s eta 0:00:01\n",
      "     ---------------------------------------  2.4/2.5 MB 11.0 MB/s eta 0:00:01\n",
      "     ---------------------------------------- 2.5/2.5 MB 9.9 MB/s eta 0:00:00\n",
      "Collecting pyparsing>=2.2.1\n",
      "  Downloading pyparsing-3.0.9-py3-none-any.whl (98 kB)\n",
      "     ---------------------------------------- 0.0/98.3 kB ? eta -:--:--\n",
      "     ---------------------------------------- 98.3/98.3 kB 5.9 MB/s eta 0:00:00\n",
      "Requirement already satisfied: python-dateutil>=2.7 in c:\\users\\ezen\\appdata\\roaming\\python\\python311\\site-packages (from matplotlib) (2.8.2)\n",
      "Requirement already satisfied: six>=1.5 in c:\\users\\ezen\\appdata\\roaming\\python\\python311\\site-packages (from python-dateutil>=2.7->matplotlib) (1.16.0)\n",
      "Installing collected packages: pyparsing, pillow, kiwisolver, fonttools, cycler, contourpy, matplotlib\n",
      "Successfully installed contourpy-1.0.7 cycler-0.11.0 fonttools-4.38.0 kiwisolver-1.4.4 matplotlib-3.6.3 pillow-9.4.0 pyparsing-3.0.9\n"
     ]
    }
   ],
   "source": [
    "### 데이터 시각화 라이브러리 matplotlib\n",
    "## 라이브러리 설치\n",
    "!pip install matplotlib"
   ]
  },
  {
   "cell_type": "code",
   "execution_count": 50,
   "metadata": {},
   "outputs": [],
   "source": [
    "## 라이브러리 로드\n",
    "import matplotlib.pyplot as plt"
   ]
  },
  {
   "cell_type": "code",
   "execution_count": 51,
   "metadata": {},
   "outputs": [
    {
     "data": {
      "image/png": "[encoded data removed]",
      "text/plain": [
       "<Figure size 640x480 with 1 Axes>"
      ]
     },
     "metadata": {},
     "output_type": "display_data"
    }
   ],
   "source": [
    "## 라인 그래프 출력\n",
    "\n",
    "## 도화지에 그려질 x, y축의 수치를 지정\n",
    "plt.plot([1,2,3,4])\n",
    "\n",
    "## 그래프 출력\n",
    "plt.show()"
   ]
  },
  {
   "cell_type": "code",
   "execution_count": 52,
   "metadata": {},
   "outputs": [
    {
     "data": {
      "image/png": "[encoded data removed]",
      "text/plain": [
       "<Figure size 640x480 with 1 Axes>"
      ]
     },
     "metadata": {},
     "output_type": "display_data"
    }
   ],
   "source": [
    "plt.plot(corona['일일 확진자'])\n",
    "plt.show()"
   ]
  },
  {
   "cell_type": "code",
   "execution_count": 55,
   "metadata": {},
   "outputs": [
    {
     "data": {
      "image/png": "[encoded data removed]",
      "text/plain": [
       "<Figure size 640x480 with 1 Axes>"
      ]
     },
     "metadata": {},
     "output_type": "display_data"
    }
   ],
   "source": [
    "plt.plot([1,2,3,4],[1,5,3,8])\n",
    "plt.show()"
   ]
  },
  {
   "cell_type": "code",
   "execution_count": 62,
   "metadata": {},
   "outputs": [
    {
     "data": {
      "text/plain": [
       "<matplotlib.legend.Legend at 0x25bed15dd10>"
      ]
     },
     "execution_count": 62,
     "metadata": {},
     "output_type": "execute_result"
    },
    {
     "data": {
      "image/png": "[encoded data removed]",
      "text/plain": [
       "<Figure size 640x480 with 1 Axes>"
      ]
     },
     "metadata": {},
     "output_type": "display_data"
    }
   ],
   "source": [
    "x= [1,2,3,4]\n",
    "y1 = [3,6,2,7]\n",
    "y2 = [1, 10, 3, 1]\n",
    "\n",
    "## 한글이 깨지는 현상을 막기 위해 폰트 변경\n",
    "plt.rc('font',family='Malgun Gothic')\n",
    "\n",
    "## 선의 색\n",
    "plt.plot(x, y1, 'r')\n",
    "## 선의 종류\n",
    "plt. plot(x,y2, '--')\n",
    "## x축의 이름\n",
    "plt.xlabel('Class')\n",
    "## y축의 이름\n",
    "plt.ylabel('Count')\n",
    "## title\n",
    "plt.title('그래프')\n",
    "# 범례추가\n",
    "plt.legend(['A','B'])\n"
   ]
  },
  {
   "cell_type": "code",
   "execution_count": 63,
   "metadata": {},
   "outputs": [
    {
     "data": {
      "image/png": "[encoded data removed]",
      "text/plain": [
       "<Figure size 640x480 with 2 Axes>"
      ]
     },
     "metadata": {},
     "output_type": "display_data"
    }
   ],
   "source": [
    "## subplot(행의 수, 열의 수, 위치)\n",
    "\n",
    "## 그래프 2개 그린다는 가정\n",
    "\n",
    "## subplot을 이용해서 위치를 지정\n",
    "plt.subplot(2,1,1)\n",
    "plt.plot(x, y1)\n",
    "plt.subplot(2,1,2)\n",
    "plt.plot(x, y2)\n",
    "\n",
    "plt.show()"
   ]
  },
  {
   "cell_type": "code",
   "execution_count": 64,
   "metadata": {},
   "outputs": [],
   "source": [
    "## 바형 그래프\n",
    "x = [1,2,3,4]\n",
    "y = [80,60,90,70]"
   ]
  },
  {
   "cell_type": "code",
   "execution_count": 65,
   "metadata": {},
   "outputs": [
    {
     "data": {
      "image/png": "[encoded data removed]",
      "text/plain": [
       "<Figure size 640x480 with 1 Axes>"
      ]
     },
     "metadata": {},
     "output_type": "display_data"
    }
   ],
   "source": [
    "plt.bar(x,y)\n",
    "plt.show()"
   ]
  },
  {
   "cell_type": "code",
   "execution_count": 68,
   "metadata": {},
   "outputs": [
    {
     "data": {
      "image/png": "[encoded data removed]",
      "text/plain": [
       "<Figure size 640x480 with 1 Axes>"
      ]
     },
     "metadata": {},
     "output_type": "display_data"
    }
   ],
   "source": [
    "## 막대의 너비와 색상 변경\n",
    "plt.bar(x,y,color=['g','r'], width=0.5)\n",
    "\n",
    "## x축의 이름 변경\n",
    "plt. xticks(x, ['naths','seience','english','history'])\n",
    "\n",
    "plt.show()"
   ]
  },
  {
   "cell_type": "code",
   "execution_count": 69,
   "metadata": {},
   "outputs": [],
   "source": [
    "## 산점도 그래프\n",
    "import numpy as np"
   ]
  },
  {
   "cell_type": "code",
   "execution_count": 85,
   "metadata": {},
   "outputs": [],
   "source": [
    "x = np.random.rand(50)\n",
    "y = np.random.rand(50)"
   ]
  },
  {
   "cell_type": "code",
   "execution_count": 86,
   "metadata": {},
   "outputs": [
    {
     "data": {
      "image/png": "[encoded data removed]",
      "text/plain": [
       "<Figure size 640x480 with 1 Axes>"
      ]
     },
     "metadata": {},
     "output_type": "display_data"
    }
   ],
   "source": [
    "plt.scatter(x,y)\n",
    "plt.show()"
   ]
  },
  {
   "cell_type": "code",
   "execution_count": 92,
   "metadata": {},
   "outputs": [
    {
     "data": {
      "image/png": "[encoded data removed]",
      "text/plain": [
       "<Figure size 640x480 with 1 Axes>"
      ]
     },
     "metadata": {},
     "output_type": "display_data"
    }
   ],
   "source": [
    "## 영역, 색, 투명도 변경\n",
    "color = np.random.rand(50)\n",
    "area = (20 * np.random.rand(50))**3\n",
    "\n",
    "plt.scatter(x,y, s = area, c = color, alpha = 0.8)   #alpha는 투명도임\n",
    "plt.show()"
   ]
  },
  {
   "cell_type": "code",
   "execution_count": null,
   "metadata": {},
   "outputs": [],
   "source": []
  }
 ],
 "metadata": {
  "kernelspec": {
   "display_name": "Python 3",
   "language": "python",
   "name": "python3"
  },
  "language_info": {
   "codemirror_mode": {
    "name": "ipython",
    "version": 3
   },
   "file_extension": ".py",
   "mimetype": "text/x-python",
   "name": "python",
   "nbconvert_exporter": "python",
   "pygments_lexer": "ipython3",
   "version": "3.11.1"
  },
  "orig_nbformat": 4,
  "vscode": {
   "interpreter": {
    "hash": "d83fa9b78f6d32ae369e3b25d0bdfb8546935a326f61d3bc2625644343d73d1f"
   }
  }
 },
 "nbformat": 4,
 "nbformat_minor": 2
}
