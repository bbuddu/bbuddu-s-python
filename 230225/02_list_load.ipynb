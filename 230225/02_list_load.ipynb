{
 "cells": [
  {
   "cell_type": "code",
   "execution_count": 1,
   "metadata": {},
   "outputs": [],
   "source": [
    "import os"
   ]
  },
  {
   "cell_type": "code",
   "execution_count": 3,
   "metadata": {},
   "outputs": [],
   "source": [
    "# 파일 리스트 생성\n",
    "file_list = os.listdir(\"../csv/2017\")"
   ]
  },
  {
   "cell_type": "code",
   "execution_count": 4,
   "metadata": {},
   "outputs": [],
   "source": [
    "# 반복문을 이용해서 파일명들을 각각 print\n",
    "# 각각 파일들을 pandas를 이용해서 파일을 로드하여 하나의 데이터 프레임으로 결합\n",
    "# 결합은 유니언 결합 (concat)을 사용하여 결합\n",
    "# hint : pd.read_csv파일의 경로 + 파일의 이름\n",
    "# 비어있는 데이터프레임을 생성\n",
    "# 반복문에서 read_csv -> pd.concat()"
   ]
  },
  {
   "cell_type": "code",
   "execution_count": null,
   "metadata": {},
   "outputs": [],
   "source": [
    "# 반복문을 이용해서 파일명들을 각각 print\n",
    "# case1(range 사용)\n",
    "for i in range(0, len(file_list), 1):\n",
    "    print(file_list[i])\n",
    "# case1(list 사용)\n",
    "for i in file_list:\n",
    "    print(i)"
   ]
  },
  {
   "cell_type": "code",
   "execution_count": 15,
   "metadata": {},
   "outputs": [
    {
     "name": "stdout",
     "output_type": "stream",
     "text": [
      "../csv/2017201712_expense_list.csv\n"
     ]
    }
   ],
   "source": [
    "## csv를 데이터프레임으로 변경\n",
    "# pd.read_csv(파일경로)\n",
    "print('../csv/2017' + '201712_expense_list.csv')"
   ]
  },
  {
   "cell_type": "code",
   "execution_count": 16,
   "metadata": {},
   "outputs": [],
   "source": [
    "import pandas as pd"
   ]
  },
  {
   "cell_type": "code",
   "execution_count": 24,
   "metadata": {},
   "outputs": [
    {
     "name": "stdout",
     "output_type": "stream",
     "text": [
      "../csv/2017/201701_expense_list.csv\n",
      "../csv/2017/201702_expense_list.csv\n",
      "../csv/2017/201703_expense_list.csv\n",
      "../csv/2017/201704_expense_list.csv\n",
      "../csv/2017/201705_expense_list.csv\n",
      "../csv/2017/201706_expense_list.csv\n",
      "../csv/2017/201707_expense_list.csv\n",
      "../csv/2017/201708_expense_list.csv\n",
      "../csv/2017/201709_expense_list.csv\n",
      "../csv/2017/201710_expense_list.csv\n",
      "../csv/2017/201711_expense_list.csv\n",
      "../csv/2017/201712_expense_list.csv\n"
     ]
    }
   ],
   "source": [
    "file_path = '../csv/2017/'   #문자열을 변수에 담아준다\n",
    "total_df = pd.DataFrame()    #비어있는 데이터프레임을 total_df에 저장\n",
    "for i in file_list:          #file _list를 반복 -> 리스트 항목 하나하나씩 i에 넣어서\n",
    "    print(file_path + i)     #file_path 문자열과 i의 값을 출력\n",
    "    df = pd.read_csv(file_path + i) # file_path와 i를 합친 문자열 (상대주소)의 csv파일을 데이터프레임화 하여 df라는 변수에 저장하는 작업\n",
    "    # case1\n",
    "    # total_df = pd.concat([total_df, df], axis = 'rows').reset_index(drop=True)\n",
    "    # case2\n",
    "    total_df = pd.concat([total_df, df], axis = 0, ignore_index=True).reset_index(drop=True)"
   ]
  },
  {
   "cell_type": "code",
   "execution_count": 23,
   "metadata": {},
   "outputs": [
    {
     "name": "stdout",
     "output_type": "stream",
     "text": [
      "<class 'pandas.core.frame.DataFrame'>\n",
      "RangeIndex: 70132 entries, 0 to 70131\n",
      "Data columns (total 20 columns):\n",
      " #   Column             Non-Null Count  Dtype  \n",
      "---  ------             --------------  -----  \n",
      " 0   nid                70132 non-null  int64  \n",
      " 1   title              70132 non-null  object \n",
      " 2   url                70132 non-null  object \n",
      " 3   dept_nm_lvl_1      70132 non-null  object \n",
      " 4   dept_nm_lvl_2      70074 non-null  object \n",
      " 5   dept_nm_lvl_3      61262 non-null  object \n",
      " 6   dept_nm_lvl_4      17939 non-null  object \n",
      " 7   dept_nm_lvl_5      3474 non-null   object \n",
      " 8   exec_yr            70132 non-null  int64  \n",
      " 9   exec_month         70132 non-null  int64  \n",
      " 10  expense_budget     3108 non-null   float64\n",
      " 11  expense_execution  2805 non-null   float64\n",
      " 12  category           1259 non-null   object \n",
      " 13  dept_nm_full       70053 non-null  object \n",
      " 14  exec_dt            70132 non-null  object \n",
      " 15  exec_loc           69360 non-null  object \n",
      " 16  exec_purpose       70110 non-null  object \n",
      " 17  target_nm          69597 non-null  object \n",
      " 18  payment_method     69929 non-null  object \n",
      " 19  exec_amount        70132 non-null  int64  \n",
      "dtypes: float64(2), int64(4), object(14)\n",
      "memory usage: 10.7+ MB\n"
     ]
    }
   ],
   "source": [
    "total_df.info()"
   ]
  },
  {
   "cell_type": "code",
   "execution_count": 28,
   "metadata": {},
   "outputs": [],
   "source": [
    "file_list2 = os.listdir(\"../csv/2021\")"
   ]
  },
  {
   "cell_type": "code",
   "execution_count": 29,
   "metadata": {},
   "outputs": [
    {
     "data": {
      "text/plain": [
       "['202101_expense_list.csv',\n",
       " '202101_expense_list.json',\n",
       " '202101_expense_list.xlsx',\n",
       " '202101_expense_list.xml',\n",
       " '202102_expense_list.csv',\n",
       " '202102_expense_list.json',\n",
       " '202102_expense_list.xlsx',\n",
       " '202102_expense_list.xml',\n",
       " '202103_expense_list.csv',\n",
       " '202103_expense_list.json',\n",
       " '202103_expense_list.xlsx',\n",
       " '202103_expense_list.xml',\n",
       " '202104_expense_list.csv',\n",
       " '202104_expense_list.json',\n",
       " '202104_expense_list.xlsx',\n",
       " '202104_expense_list.xml',\n",
       " '202105_expense_list.csv',\n",
       " '202105_expense_list.json',\n",
       " '202105_expense_list.xlsx',\n",
       " '202105_expense_list.xml',\n",
       " '202106_expense_list.csv',\n",
       " '202106_expense_list.json',\n",
       " '202106_expense_list.xlsx',\n",
       " '202106_expense_list.xml',\n",
       " '202107_expense_list.csv',\n",
       " '202107_expense_list.json',\n",
       " '202107_expense_list.xlsx',\n",
       " '202107_expense_list.xml',\n",
       " '202108_expense_list.csv',\n",
       " '202108_expense_list.json',\n",
       " '202108_expense_list.xlsx',\n",
       " '202108_expense_list.xml',\n",
       " '202109_expense_list.csv',\n",
       " '202109_expense_list.json',\n",
       " '202109_expense_list.xlsx',\n",
       " '202109_expense_list.xml',\n",
       " '202110_expense_list.csv',\n",
       " '202110_expense_list.json',\n",
       " '202110_expense_list.xlsx',\n",
       " '202110_expense_list.xml',\n",
       " '202111_expense_list.csv',\n",
       " '202111_expense_list.json',\n",
       " '202111_expense_list.xlsx',\n",
       " '202111_expense_list.xml',\n",
       " '202112_expense_list.csv',\n",
       " '202112_expense_list.json',\n",
       " '202112_expense_list.xlsx',\n",
       " '202112_expense_list.xml']"
      ]
     },
     "execution_count": 29,
     "metadata": {},
     "output_type": "execute_result"
    }
   ],
   "source": [
    "os.listdir(\"../csv/2021\")"
   ]
  },
  {
   "cell_type": "code",
   "execution_count": 37,
   "metadata": {},
   "outputs": [
    {
     "name": "stdout",
     "output_type": "stream",
     "text": [
      "202101_expense_list.csv\n",
      "202102_expense_list.csv\n",
      "202103_expense_list.csv\n",
      "202104_expense_list.csv\n",
      "202105_expense_list.csv\n",
      "202106_expense_list.csv\n",
      "202107_expense_list.csv\n",
      "202108_expense_list.csv\n",
      "202109_expense_list.csv\n",
      "202110_expense_list.csv\n",
      "202111_expense_list.csv\n",
      "202112_expense_list.csv\n"
     ]
    }
   ],
   "source": [
    "\n",
    "for i in range(len(file_list2)):\n",
    "    if file_list2[i][-3:] == 'csv':\n",
    "            print(file_list2[i])\n"
   ]
  },
  {
   "cell_type": "code",
   "execution_count": 42,
   "metadata": {},
   "outputs": [
    {
     "name": "stdout",
     "output_type": "stream",
     "text": [
      "202101_expense_list.csv\n",
      "202102_expense_list.csv\n",
      "202103_expense_list.csv\n",
      "202104_expense_list.csv\n",
      "202105_expense_list.csv\n",
      "202106_expense_list.csv\n",
      "202107_expense_list.csv\n",
      "202108_expense_list.csv\n",
      "202109_expense_list.csv\n",
      "202110_expense_list.csv\n",
      "202111_expense_list.csv\n",
      "202112_expense_list.csv\n"
     ]
    }
   ],
   "source": [
    "for i in file_list2:\n",
    "    if i.endswith('.csv'):\n",
    "        print(i)"
   ]
  },
  {
   "cell_type": "code",
   "execution_count": 43,
   "metadata": {},
   "outputs": [],
   "source": [
    "file_path = '../csv/2017'"
   ]
  },
  {
   "cell_type": "code",
   "execution_count": 45,
   "metadata": {},
   "outputs": [
    {
     "data": {
      "text/plain": [
       "['201701_expense_list.csv',\n",
       " '201702_expense_list.csv',\n",
       " '201703_expense_list.csv',\n",
       " '201704_expense_list.csv',\n",
       " '201705_expense_list.csv',\n",
       " '201706_expense_list.csv',\n",
       " '201707_expense_list.csv',\n",
       " '201708_expense_list.csv',\n",
       " '201709_expense_list.csv',\n",
       " '201710_expense_list.csv',\n",
       " '201711_expense_list.csv',\n",
       " '201712_expense_list.csv']"
      ]
     },
     "execution_count": 45,
     "metadata": {},
     "output_type": "execute_result"
    }
   ],
   "source": [
    "os.listdir(file_path)"
   ]
  },
  {
   "cell_type": "code",
   "execution_count": 60,
   "metadata": {},
   "outputs": [],
   "source": [
    "## 함수 생성\n",
    "## 매개변수 2개 path, end_string\n",
    "def list_df(path, end_string):\n",
    "    # file_list 생성\n",
    "    file_list = os.listdir(path)\n",
    "    # 확장자가 end_string 과 같은 경우의 리스트만 추출\n",
    "    file_list2=[]\n",
    "    for i in file_list:\n",
    "        if i.endswith(end_string):\n",
    "            file_list2.append(i)\n",
    "        \n",
    "    # case2\n",
    "    file_list3 = [i for i in file_list if i.endswith(end_string)]\n",
    "    print(file_list2 == file_list3)\n",
    "\n",
    "    # file lins2의 리스트 항목들을 데이터프레임화 하여 하나의 데이터 프레임으로 결합\n",
    "    \n",
    "    #비어있는 데이터프레임 생성\n",
    "    total_df = pd.DataFrame()\n",
    "    for i in file_list2:\n",
    "        # path는 매개변수, i는 file_list2 항목의 값\n",
    "        df = pd.read_csv(path + i)\n",
    "        # 불러온 데이터프레임을 total_df에 단순한 행 결합\n",
    "        total_df = pd.concat([total_df, df], axis=0,ignore_index=True)\n",
    "\n",
    "    # 합쳐진 데이터프레임을 리턴\n",
    "    return total_df"
   ]
  },
  {
   "cell_type": "code",
   "execution_count": null,
   "metadata": {},
   "outputs": [],
   "source": [
    "list_df('../csv/2017/', '.csv')"
   ]
  },
  {
   "cell_type": "code",
   "execution_count": 66,
   "metadata": {},
   "outputs": [
    {
     "name": "stdout",
     "output_type": "stream",
     "text": [
      "True\n",
      "True\n"
     ]
    }
   ],
   "source": [
    "df_2017 = list_df('../csv/2017/', '/csv')\n",
    "df_2018 = list_df('../csv/2018/', '.csv')"
   ]
  },
  {
   "cell_type": "code",
   "execution_count": 68,
   "metadata": {},
   "outputs": [
    {
     "name": "stdout",
     "output_type": "stream",
     "text": [
      "<class 'pandas.core.frame.DataFrame'>\n",
      "RangeIndex: 6392 entries, 0 to 6391\n",
      "Data columns (total 20 columns):\n",
      " #   Column             Non-Null Count  Dtype  \n",
      "---  ------             --------------  -----  \n",
      " 0   nid                6392 non-null   int64  \n",
      " 1   title              6392 non-null   object \n",
      " 2   url                6392 non-null   object \n",
      " 3   dept_nm_lvl_1      6392 non-null   object \n",
      " 4   dept_nm_lvl_2      6392 non-null   object \n",
      " 5   dept_nm_lvl_3      6392 non-null   object \n",
      " 6   dept_nm_lvl_4      6392 non-null   object \n",
      " 7   dept_nm_lvl_5      6392 non-null   object \n",
      " 8   exec_yr            6392 non-null   int64  \n",
      " 9   exec_month         6392 non-null   int64  \n",
      " 10  expense_budget     318 non-null    float64\n",
      " 11  expense_execution  306 non-null    float64\n",
      " 12  category           6392 non-null   object \n",
      " 13  dept_nm_full       6392 non-null   object \n",
      " 14  exec_dt            6392 non-null   object \n",
      " 15  exec_loc           6392 non-null   object \n",
      " 16  exec_purpose       6392 non-null   object \n",
      " 17  target_nm          6392 non-null   object \n",
      " 18  payment_method     6392 non-null   object \n",
      " 19  exec_amount        6392 non-null   int64  \n",
      "dtypes: float64(2), int64(4), object(14)\n",
      "memory usage: 998.9+ KB\n"
     ]
    }
   ],
   "source": [
    "# json 데이터를 데이터프레임으로 로드\n",
    "json_data = pd.read_json(\"../csv/2019/201901_expense_list.json\")\n",
    "json_data.info()"
   ]
  },
  {
   "cell_type": "code",
   "execution_count": 72,
   "metadata": {},
   "outputs": [
    {
     "name": "stdout",
     "output_type": "stream",
     "text": [
      "Collecting openpyxl\n",
      "  Downloading openpyxl-3.1.1-py2.py3-none-any.whl (249 kB)\n",
      "     ---------------------------------------- 0.0/249.8 kB ? eta -:--:--\n",
      "     -------------------------------------- 249.8/249.8 kB 7.7 MB/s eta 0:00:00\n",
      "Collecting et-xmlfile\n",
      "  Downloading et_xmlfile-1.1.0-py3-none-any.whl (4.7 kB)\n",
      "Installing collected packages: et-xmlfile, openpyxl\n",
      "Successfully installed et-xmlfile-1.1.0 openpyxl-3.1.1\n"
     ]
    },
    {
     "name": "stderr",
     "output_type": "stream",
     "text": [
      "\n",
      "[notice] A new release of pip is available: 23.0 -> 23.0.1\n",
      "[notice] To update, run: python.exe -m pip install --upgrade pip\n"
     ]
    }
   ],
   "source": [
    "# xlsx 파일을 로드하기위한 엔진 라이브러리를 설치\n",
    "!pip install openpyxl"
   ]
  },
  {
   "cell_type": "code",
   "execution_count": 73,
   "metadata": {},
   "outputs": [
    {
     "name": "stdout",
     "output_type": "stream",
     "text": [
      "<class 'pandas.core.frame.DataFrame'>\n",
      "RangeIndex: 5282 entries, 0 to 5281\n",
      "Data columns (total 20 columns):\n",
      " #   Column             Non-Null Count  Dtype  \n",
      "---  ------             --------------  -----  \n",
      " 0   nid                5282 non-null   int64  \n",
      " 1   title              5282 non-null   object \n",
      " 2   url                5282 non-null   object \n",
      " 3   dept_nm_lvl_1      5282 non-null   object \n",
      " 4   dept_nm_lvl_2      5282 non-null   object \n",
      " 5   dept_nm_lvl_3      4198 non-null   object \n",
      " 6   dept_nm_lvl_4      1272 non-null   object \n",
      " 7   dept_nm_lvl_5      81 non-null     object \n",
      " 8   exec_yr            5282 non-null   int64  \n",
      " 9   exec_month         5282 non-null   int64  \n",
      " 10  expense_budget     355 non-null    float64\n",
      " 11  expense_execution  276 non-null    float64\n",
      " 12  category           224 non-null    object \n",
      " 13  dept_nm_full       5282 non-null   object \n",
      " 14  exec_dt            5282 non-null   object \n",
      " 15  exec_loc           5236 non-null   object \n",
      " 16  exec_purpose       5282 non-null   object \n",
      " 17  target_nm          5257 non-null   object \n",
      " 18  payment_method     5282 non-null   object \n",
      " 19  exec_amount        5282 non-null   int64  \n",
      "dtypes: float64(2), int64(4), object(14)\n",
      "memory usage: 825.4+ KB\n"
     ]
    }
   ],
   "source": [
    "# 엑셀 데이터를 데이터프레임으로 로드\n",
    "excel_data = pd.read_excel(\"../csv/2020/202001_expense_list.xlsx\")\n",
    "excel_data.info()"
   ]
  },
  {
   "cell_type": "code",
   "execution_count": 83,
   "metadata": {},
   "outputs": [],
   "source": [
    "## 함수 생성\n",
    "## 매개변수 2개 path, end_string\n",
    "def list_df(path, end_string):\n",
    "    # file_list 생성\n",
    "    file_list = os.listdir(path)\n",
    "    # 확장자가 end_string 과 같은 경우의 리스트만 추출\n",
    "    file_list2=[]\n",
    "    for i in file_list:\n",
    "        if i.endswith(end_string):\n",
    "            file_list2.append(i)\n",
    "        \n",
    "    # case2\n",
    "    file_list3 = [i for i in file_list if i.endswith(end_string)]\n",
    "    print(file_list2 == file_list3)\n",
    "\n",
    "    # file lins2의 리스트 항목들을 데이터프레임화 하여 하나의 데이터 프레임으로 결합\n",
    "    \n",
    "    #비어있는 데이터프레임 생성\n",
    "    total_df = pd.DataFrame()\n",
    "    for i in file_list2 :       \n",
    "        # path는 매개변수, i는 file_list2 항목의 값\n",
    "        if end_string == '.csv':\n",
    "            df = pd.read_csv(path + i)\n",
    "        elif end_string == '.json':\n",
    "            df = pd.read_json(path + i)\n",
    "        elif (end_string == '.xlsx') | (end_string == '.xls'):\n",
    "            df = pd.read_excel(path + i)\n",
    "        else :\n",
    "            return '확장자가 잘못 입력되었습니다.'\n",
    "      \n",
    "        # 불러온 데이터프레임을 total_df에 단순한 행 결합\n",
    "    total_df = pd.concat([total_df, df], axis=0,ignore_index=True)\n",
    "\n",
    "    # 합쳐진 데이터프레임을 리턴\n",
    "    return total_df"
   ]
  },
  {
   "cell_type": "code",
   "execution_count": 88,
   "metadata": {},
   "outputs": [
    {
     "name": "stdout",
     "output_type": "stream",
     "text": [
      "True\n",
      "True\n"
     ]
    }
   ],
   "source": [
    "df_2019 = list_df(\"../csv/2019/\", '.json')\n",
    "df_2020 = list_df(\"../csv/2020/\", '.xlsx')"
   ]
  },
  {
   "cell_type": "code",
   "execution_count": 89,
   "metadata": {},
   "outputs": [
    {
     "name": "stdout",
     "output_type": "stream",
     "text": [
      "<class 'pandas.core.frame.DataFrame'>\n",
      "RangeIndex: 7815 entries, 0 to 7814\n",
      "Data columns (total 21 columns):\n",
      " #   Column             Non-Null Count  Dtype  \n",
      "---  ------             --------------  -----  \n",
      " 0   nid                7815 non-null   int64  \n",
      " 1   title              7815 non-null   object \n",
      " 2   url                7815 non-null   object \n",
      " 3   dept_nm_lvl_1      7815 non-null   object \n",
      " 4   dept_nm_lvl_2      7815 non-null   object \n",
      " 5   dept_nm_lvl_3      6023 non-null   object \n",
      " 6   dept_nm_lvl_4      2095 non-null   object \n",
      " 7   dept_nm_lvl_5      207 non-null    object \n",
      " 8   exec_yr            7815 non-null   int64  \n",
      " 9   exec_month         7815 non-null   int64  \n",
      " 10  expense_budget     0 non-null      float64\n",
      " 11  expense_execution  0 non-null      float64\n",
      " 12  category           114 non-null    object \n",
      " 13  dept_nm_full       7815 non-null   object \n",
      " 14  exec_dt            7815 non-null   object \n",
      " 15  exec_loc           7776 non-null   object \n",
      " 16  exec_purpose       7815 non-null   object \n",
      " 17  target_nm          7775 non-null   object \n",
      " 18  payment_method     7815 non-null   object \n",
      " 19  exec_amount        7815 non-null   int64  \n",
      " 20  bimok              69 non-null     object \n",
      "dtypes: float64(2), int64(4), object(15)\n",
      "memory usage: 1.3+ MB\n"
     ]
    }
   ],
   "source": [
    "df_2020.info()"
   ]
  },
  {
   "cell_type": "code",
   "execution_count": 91,
   "metadata": {},
   "outputs": [],
   "source": [
    "## 모듈 로드\n",
    "import list_pandas\n",
    "\n",
    "#import imp                   -> 파이썬 파일 수정 했을 때 다시 불러오는 명령어 (리로드)\n",
    "#imp.reload(list_pandas)      -> 파이썬 파일 수정 했을 때 다시 불러오는 명령어"
   ]
  },
  {
   "cell_type": "code",
   "execution_count": 93,
   "metadata": {},
   "outputs": [
    {
     "name": "stdout",
     "output_type": "stream",
     "text": [
      "True\n"
     ]
    },
    {
     "data": {
      "text/html": [
       "<div>\n",
       "<style scoped>\n",
       "    .dataframe tbody tr th:only-of-type {\n",
       "        vertical-align: middle;\n",
       "    }\n",
       "\n",
       "    .dataframe tbody tr th {\n",
       "        vertical-align: top;\n",
       "    }\n",
       "\n",
       "    .dataframe thead th {\n",
       "        text-align: right;\n",
       "    }\n",
       "</style>\n",
       "<table border=\"1\" class=\"dataframe\">\n",
       "  <thead>\n",
       "    <tr style=\"text-align: right;\">\n",
       "      <th></th>\n",
       "      <th>nid</th>\n",
       "      <th>title</th>\n",
       "      <th>url</th>\n",
       "      <th>dept_nm_lvl_1</th>\n",
       "      <th>dept_nm_lvl_2</th>\n",
       "      <th>dept_nm_lvl_3</th>\n",
       "      <th>dept_nm_lvl_4</th>\n",
       "      <th>dept_nm_lvl_5</th>\n",
       "      <th>exec_yr</th>\n",
       "      <th>exec_month</th>\n",
       "      <th>expense_budget</th>\n",
       "      <th>expense_execution</th>\n",
       "      <th>category</th>\n",
       "      <th>dept_nm_full</th>\n",
       "      <th>exec_dt</th>\n",
       "      <th>exec_loc</th>\n",
       "      <th>exec_purpose</th>\n",
       "      <th>target_nm</th>\n",
       "      <th>payment_method</th>\n",
       "      <th>exec_amount</th>\n",
       "    </tr>\n",
       "  </thead>\n",
       "  <tbody>\n",
       "    <tr>\n",
       "      <th>0</th>\n",
       "      <td>14356805</td>\n",
       "      <td>2017년 12월 서울시본청_행정국_인사과 업무추진비 내역</td>\n",
       "      <td>http://opengov.seoul.go.kr/public/14356805</td>\n",
       "      <td>서울시본청</td>\n",
       "      <td>행정국</td>\n",
       "      <td>인사과</td>\n",
       "      <td>NaN</td>\n",
       "      <td>NaN</td>\n",
       "      <td>2017</td>\n",
       "      <td>12</td>\n",
       "      <td>NaN</td>\n",
       "      <td>NaN</td>\n",
       "      <td>NaN</td>\n",
       "      <td>행정국 인사과</td>\n",
       "      <td>2017-12-28 22:44</td>\n",
       "      <td>김앤장 (중구 무교로 6)</td>\n",
       "      <td>정년명예퇴임식 개선사항 검토를 위한 간담회비 지급</td>\n",
       "      <td>인사기획팀장 등 12명</td>\n",
       "      <td>카드</td>\n",
       "      <td>300000</td>\n",
       "    </tr>\n",
       "    <tr>\n",
       "      <th>1</th>\n",
       "      <td>14356805</td>\n",
       "      <td>2017년 12월 서울시본청_행정국_인사과 업무추진비 내역</td>\n",
       "      <td>http://opengov.seoul.go.kr/public/14356805</td>\n",
       "      <td>서울시본청</td>\n",
       "      <td>행정국</td>\n",
       "      <td>인사과</td>\n",
       "      <td>NaN</td>\n",
       "      <td>NaN</td>\n",
       "      <td>2017</td>\n",
       "      <td>12</td>\n",
       "      <td>NaN</td>\n",
       "      <td>NaN</td>\n",
       "      <td>NaN</td>\n",
       "      <td>행정국 인사과</td>\n",
       "      <td>2017-12-28 15:48</td>\n",
       "      <td>황금정 (종로구 당주동1)</td>\n",
       "      <td>퇴임식 행사 진행순서 논의 등을 위한 간담회비 지급</td>\n",
       "      <td>성과관리팀장 등 13명</td>\n",
       "      <td>카드</td>\n",
       "      <td>380000</td>\n",
       "    </tr>\n",
       "    <tr>\n",
       "      <th>2</th>\n",
       "      <td>14356805</td>\n",
       "      <td>2017년 12월 서울시본청_행정국_인사과 업무추진비 내역</td>\n",
       "      <td>http://opengov.seoul.go.kr/public/14356805</td>\n",
       "      <td>서울시본청</td>\n",
       "      <td>행정국</td>\n",
       "      <td>인사과</td>\n",
       "      <td>NaN</td>\n",
       "      <td>NaN</td>\n",
       "      <td>2017</td>\n",
       "      <td>12</td>\n",
       "      <td>NaN</td>\n",
       "      <td>NaN</td>\n",
       "      <td>NaN</td>\n",
       "      <td>행정국 인사과</td>\n",
       "      <td>2017-12-27 20:45</td>\n",
       "      <td>CJ푸드빌 (중구 을지로3길)</td>\n",
       "      <td>퇴임식 행사용역 중간 점검 등을 위한 간담회비 지급</td>\n",
       "      <td>인사기획팀장 등 15명</td>\n",
       "      <td>카드</td>\n",
       "      <td>425000</td>\n",
       "    </tr>\n",
       "    <tr>\n",
       "      <th>3</th>\n",
       "      <td>14356805</td>\n",
       "      <td>2017년 12월 서울시본청_행정국_인사과 업무추진비 내역</td>\n",
       "      <td>http://opengov.seoul.go.kr/public/14356805</td>\n",
       "      <td>서울시본청</td>\n",
       "      <td>행정국</td>\n",
       "      <td>인사과</td>\n",
       "      <td>NaN</td>\n",
       "      <td>NaN</td>\n",
       "      <td>2017</td>\n",
       "      <td>12</td>\n",
       "      <td>NaN</td>\n",
       "      <td>NaN</td>\n",
       "      <td>NaN</td>\n",
       "      <td>행정국 인사과</td>\n",
       "      <td>2017-12-26 21:28</td>\n",
       "      <td>우리집순두부 (중구 을지로3길)</td>\n",
       "      <td>직원 인사교류 관련 검토를 위한 간담회비 지급</td>\n",
       "      <td>인사기획팀장 등 5명</td>\n",
       "      <td>카드</td>\n",
       "      <td>117000</td>\n",
       "    </tr>\n",
       "    <tr>\n",
       "      <th>4</th>\n",
       "      <td>14356805</td>\n",
       "      <td>2017년 12월 서울시본청_행정국_인사과 업무추진비 내역</td>\n",
       "      <td>http://opengov.seoul.go.kr/public/14356805</td>\n",
       "      <td>서울시본청</td>\n",
       "      <td>행정국</td>\n",
       "      <td>인사과</td>\n",
       "      <td>NaN</td>\n",
       "      <td>NaN</td>\n",
       "      <td>2017</td>\n",
       "      <td>12</td>\n",
       "      <td>NaN</td>\n",
       "      <td>NaN</td>\n",
       "      <td>NaN</td>\n",
       "      <td>행정국 인사과</td>\n",
       "      <td>2017-12-26 19:36</td>\n",
       "      <td>소호정 (중구 태평로1가)</td>\n",
       "      <td>공무직 인사제도 개선논의를 위한 간담회비 지급</td>\n",
       "      <td>공무공공안전팀장 등 6명</td>\n",
       "      <td>카드</td>\n",
       "      <td>170000</td>\n",
       "    </tr>\n",
       "    <tr>\n",
       "      <th>...</th>\n",
       "      <td>...</td>\n",
       "      <td>...</td>\n",
       "      <td>...</td>\n",
       "      <td>...</td>\n",
       "      <td>...</td>\n",
       "      <td>...</td>\n",
       "      <td>...</td>\n",
       "      <td>...</td>\n",
       "      <td>...</td>\n",
       "      <td>...</td>\n",
       "      <td>...</td>\n",
       "      <td>...</td>\n",
       "      <td>...</td>\n",
       "      <td>...</td>\n",
       "      <td>...</td>\n",
       "      <td>...</td>\n",
       "      <td>...</td>\n",
       "      <td>...</td>\n",
       "      <td>...</td>\n",
       "      <td>...</td>\n",
       "    </tr>\n",
       "    <tr>\n",
       "      <th>7281</th>\n",
       "      <td>14292506</td>\n",
       "      <td>2017년 12월 사업소_은평병원_원무과 업무추진비 내역</td>\n",
       "      <td>http://opengov.seoul.go.kr/public/14292506</td>\n",
       "      <td>사업소</td>\n",
       "      <td>은평병원</td>\n",
       "      <td>원무과</td>\n",
       "      <td>NaN</td>\n",
       "      <td>NaN</td>\n",
       "      <td>2017</td>\n",
       "      <td>12</td>\n",
       "      <td>NaN</td>\n",
       "      <td>NaN</td>\n",
       "      <td>NaN</td>\n",
       "      <td>원무과</td>\n",
       "      <td>2017-12-15 16:40</td>\n",
       "      <td>보리네생고깃간(서오릉로 12)</td>\n",
       "      <td>지역정신보건기관 업무협의 간담회</td>\n",
       "      <td>병원장 외 4명</td>\n",
       "      <td>카드</td>\n",
       "      <td>112000</td>\n",
       "    </tr>\n",
       "    <tr>\n",
       "      <th>7282</th>\n",
       "      <td>14292506</td>\n",
       "      <td>2017년 12월 사업소_은평병원_원무과 업무추진비 내역</td>\n",
       "      <td>http://opengov.seoul.go.kr/public/14292506</td>\n",
       "      <td>사업소</td>\n",
       "      <td>은평병원</td>\n",
       "      <td>원무과</td>\n",
       "      <td>NaN</td>\n",
       "      <td>NaN</td>\n",
       "      <td>2017</td>\n",
       "      <td>12</td>\n",
       "      <td>NaN</td>\n",
       "      <td>NaN</td>\n",
       "      <td>NaN</td>\n",
       "      <td>원무과</td>\n",
       "      <td>2017-12-12 20:39</td>\n",
       "      <td>항아리홍어(불광동 281-159)</td>\n",
       "      <td>원무과 현안업무 추진직원 격려 간담회</td>\n",
       "      <td>원무과장 외 4명</td>\n",
       "      <td>카드</td>\n",
       "      <td>118000</td>\n",
       "    </tr>\n",
       "    <tr>\n",
       "      <th>7283</th>\n",
       "      <td>14292506</td>\n",
       "      <td>2017년 12월 사업소_은평병원_원무과 업무추진비 내역</td>\n",
       "      <td>http://opengov.seoul.go.kr/public/14292506</td>\n",
       "      <td>사업소</td>\n",
       "      <td>은평병원</td>\n",
       "      <td>원무과</td>\n",
       "      <td>NaN</td>\n",
       "      <td>NaN</td>\n",
       "      <td>2017</td>\n",
       "      <td>12</td>\n",
       "      <td>NaN</td>\n",
       "      <td>NaN</td>\n",
       "      <td>NaN</td>\n",
       "      <td>원무과</td>\n",
       "      <td>2017-12-04 21:17</td>\n",
       "      <td>횟집산이네(백련산로 160)</td>\n",
       "      <td>18년 예산편성 관련 직원 격려 간담회</td>\n",
       "      <td>서무팀장 외 5명</td>\n",
       "      <td>카드</td>\n",
       "      <td>124000</td>\n",
       "    </tr>\n",
       "    <tr>\n",
       "      <th>7284</th>\n",
       "      <td>14292506</td>\n",
       "      <td>2017년 12월 사업소_은평병원_원무과 업무추진비 내역</td>\n",
       "      <td>http://opengov.seoul.go.kr/public/14292506</td>\n",
       "      <td>사업소</td>\n",
       "      <td>은평병원</td>\n",
       "      <td>원무과</td>\n",
       "      <td>NaN</td>\n",
       "      <td>NaN</td>\n",
       "      <td>2017</td>\n",
       "      <td>12</td>\n",
       "      <td>NaN</td>\n",
       "      <td>NaN</td>\n",
       "      <td>NaN</td>\n",
       "      <td>원무과</td>\n",
       "      <td>2017-12-05 18:21</td>\n",
       "      <td>삿뽀로(서오릉로 4)</td>\n",
       "      <td>인증 관련업무 직원 격려 간담회</td>\n",
       "      <td>병원장 외 33명</td>\n",
       "      <td>카드</td>\n",
       "      <td>820000</td>\n",
       "    </tr>\n",
       "    <tr>\n",
       "      <th>7285</th>\n",
       "      <td>14292506</td>\n",
       "      <td>2017년 12월 사업소_은평병원_원무과 업무추진비 내역</td>\n",
       "      <td>http://opengov.seoul.go.kr/public/14292506</td>\n",
       "      <td>사업소</td>\n",
       "      <td>은평병원</td>\n",
       "      <td>원무과</td>\n",
       "      <td>NaN</td>\n",
       "      <td>NaN</td>\n",
       "      <td>2017</td>\n",
       "      <td>12</td>\n",
       "      <td>NaN</td>\n",
       "      <td>NaN</td>\n",
       "      <td>NaN</td>\n",
       "      <td>원무과</td>\n",
       "      <td>2017-12-06 18:00</td>\n",
       "      <td>스타벅스(응암동 96-1)</td>\n",
       "      <td>전문의 및 전공의 격려 다과회</td>\n",
       "      <td>병원장 외 11명</td>\n",
       "      <td>카드</td>\n",
       "      <td>440000</td>\n",
       "    </tr>\n",
       "  </tbody>\n",
       "</table>\n",
       "<p>7286 rows × 20 columns</p>\n",
       "</div>"
      ],
      "text/plain": [
       "           nid                             title  \\\n",
       "0     14356805  2017년 12월 서울시본청_행정국_인사과 업무추진비 내역   \n",
       "1     14356805  2017년 12월 서울시본청_행정국_인사과 업무추진비 내역   \n",
       "2     14356805  2017년 12월 서울시본청_행정국_인사과 업무추진비 내역   \n",
       "3     14356805  2017년 12월 서울시본청_행정국_인사과 업무추진비 내역   \n",
       "4     14356805  2017년 12월 서울시본청_행정국_인사과 업무추진비 내역   \n",
       "...        ...                               ...   \n",
       "7281  14292506   2017년 12월 사업소_은평병원_원무과 업무추진비 내역   \n",
       "7282  14292506   2017년 12월 사업소_은평병원_원무과 업무추진비 내역   \n",
       "7283  14292506   2017년 12월 사업소_은평병원_원무과 업무추진비 내역   \n",
       "7284  14292506   2017년 12월 사업소_은평병원_원무과 업무추진비 내역   \n",
       "7285  14292506   2017년 12월 사업소_은평병원_원무과 업무추진비 내역   \n",
       "\n",
       "                                             url dept_nm_lvl_1 dept_nm_lvl_2  \\\n",
       "0     http://opengov.seoul.go.kr/public/14356805         서울시본청           행정국   \n",
       "1     http://opengov.seoul.go.kr/public/14356805         서울시본청           행정국   \n",
       "2     http://opengov.seoul.go.kr/public/14356805         서울시본청           행정국   \n",
       "3     http://opengov.seoul.go.kr/public/14356805         서울시본청           행정국   \n",
       "4     http://opengov.seoul.go.kr/public/14356805         서울시본청           행정국   \n",
       "...                                          ...           ...           ...   \n",
       "7281  http://opengov.seoul.go.kr/public/14292506           사업소          은평병원   \n",
       "7282  http://opengov.seoul.go.kr/public/14292506           사업소          은평병원   \n",
       "7283  http://opengov.seoul.go.kr/public/14292506           사업소          은평병원   \n",
       "7284  http://opengov.seoul.go.kr/public/14292506           사업소          은평병원   \n",
       "7285  http://opengov.seoul.go.kr/public/14292506           사업소          은평병원   \n",
       "\n",
       "     dept_nm_lvl_3 dept_nm_lvl_4 dept_nm_lvl_5  exec_yr  exec_month  \\\n",
       "0              인사과           NaN           NaN     2017          12   \n",
       "1              인사과           NaN           NaN     2017          12   \n",
       "2              인사과           NaN           NaN     2017          12   \n",
       "3              인사과           NaN           NaN     2017          12   \n",
       "4              인사과           NaN           NaN     2017          12   \n",
       "...            ...           ...           ...      ...         ...   \n",
       "7281           원무과           NaN           NaN     2017          12   \n",
       "7282           원무과           NaN           NaN     2017          12   \n",
       "7283           원무과           NaN           NaN     2017          12   \n",
       "7284           원무과           NaN           NaN     2017          12   \n",
       "7285           원무과           NaN           NaN     2017          12   \n",
       "\n",
       "      expense_budget  expense_execution category dept_nm_full  \\\n",
       "0                NaN                NaN      NaN      행정국 인사과   \n",
       "1                NaN                NaN      NaN      행정국 인사과   \n",
       "2                NaN                NaN      NaN      행정국 인사과   \n",
       "3                NaN                NaN      NaN      행정국 인사과   \n",
       "4                NaN                NaN      NaN      행정국 인사과   \n",
       "...              ...                ...      ...          ...   \n",
       "7281             NaN                NaN      NaN          원무과   \n",
       "7282             NaN                NaN      NaN          원무과   \n",
       "7283             NaN                NaN      NaN          원무과   \n",
       "7284             NaN                NaN      NaN          원무과   \n",
       "7285             NaN                NaN      NaN          원무과   \n",
       "\n",
       "               exec_dt            exec_loc                  exec_purpose  \\\n",
       "0     2017-12-28 22:44      김앤장 (중구 무교로 6)   정년명예퇴임식 개선사항 검토를 위한 간담회비 지급   \n",
       "1     2017-12-28 15:48      황금정 (종로구 당주동1)  퇴임식 행사 진행순서 논의 등을 위한 간담회비 지급   \n",
       "2     2017-12-27 20:45    CJ푸드빌 (중구 을지로3길)  퇴임식 행사용역 중간 점검 등을 위한 간담회비 지급   \n",
       "3     2017-12-26 21:28   우리집순두부 (중구 을지로3길)     직원 인사교류 관련 검토를 위한 간담회비 지급   \n",
       "4     2017-12-26 19:36      소호정 (중구 태평로1가)     공무직 인사제도 개선논의를 위한 간담회비 지급   \n",
       "...                ...                 ...                           ...   \n",
       "7281  2017-12-15 16:40    보리네생고깃간(서오릉로 12)             지역정신보건기관 업무협의 간담회   \n",
       "7282  2017-12-12 20:39  항아리홍어(불광동 281-159)          원무과 현안업무 추진직원 격려 간담회   \n",
       "7283  2017-12-04 21:17     횟집산이네(백련산로 160)         18년 예산편성 관련 직원 격려 간담회   \n",
       "7284  2017-12-05 18:21         삿뽀로(서오릉로 4)             인증 관련업무 직원 격려 간담회   \n",
       "7285  2017-12-06 18:00      스타벅스(응암동 96-1)              전문의 및 전공의 격려 다과회   \n",
       "\n",
       "          target_nm payment_method  exec_amount  \n",
       "0      인사기획팀장 등 12명             카드       300000  \n",
       "1      성과관리팀장 등 13명             카드       380000  \n",
       "2      인사기획팀장 등 15명             카드       425000  \n",
       "3       인사기획팀장 등 5명             카드       117000  \n",
       "4     공무공공안전팀장 등 6명             카드       170000  \n",
       "...             ...            ...          ...  \n",
       "7281       병원장 외 4명             카드       112000  \n",
       "7282      원무과장 외 4명             카드       118000  \n",
       "7283      서무팀장 외 5명             카드       124000  \n",
       "7284      병원장 외 33명             카드       820000  \n",
       "7285      병원장 외 11명             카드       440000  \n",
       "\n",
       "[7286 rows x 20 columns]"
      ]
     },
     "execution_count": 93,
     "metadata": {},
     "output_type": "execute_result"
    }
   ],
   "source": [
    "list_pandas.list_df('../csv/2017/', '.csv')"
   ]
  },
  {
   "cell_type": "code",
   "execution_count": null,
   "metadata": {},
   "outputs": [],
   "source": []
  }
 ],
 "metadata": {
  "kernelspec": {
   "display_name": "Python 3",
   "language": "python",
   "name": "python3"
  },
  "language_info": {
   "codemirror_mode": {
    "name": "ipython",
    "version": 3
   },
   "file_extension": ".py",
   "mimetype": "text/x-python",
   "name": "python",
   "nbconvert_exporter": "python",
   "pygments_lexer": "ipython3",
   "version": "3.11.1"
  },
  "orig_nbformat": 4,
  "vscode": {
   "interpreter": {
    "hash": "d83fa9b78f6d32ae369e3b25d0bdfb8546935a326f61d3bc2625644343d73d1f"
   }
  }
 },
 "nbformat": 4,
 "nbformat_minor": 2
}
