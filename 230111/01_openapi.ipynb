{
 "cells": [
  {
   "cell_type": "code",
   "execution_count": null,
   "metadata": {},
   "outputs": [],
   "source": [
    "### openapi 라이브러리 로드\n",
    "import requests\n",
    "from urllib import parse\n",
    "import xmltodict\n",
    "import pandas as pd"
   ]
  },
  {
   "cell_type": "code",
   "execution_count": null,
   "metadata": {},
   "outputs": [],
   "source": [
    "!pip install requests xmltodict"
   ]
  },
  {
   "cell_type": "code",
   "execution_count": null,
   "metadata": {},
   "outputs": [],
   "source": [
    "## openapi를 이용해서 서버와 통신하여 데이터를 가져오는 작업\n",
    "\n",
    "## 어느 api에 접속할지 url 변수를 생성\n",
    "url = \"http://openapi.data.go.kr/openapi/service/rest/Covid19/getCovid19InfStateJson\"\n",
    "\n",
    "## 공공데이터포털에서 주소와 함께 보내야하는 요청 변수\n",
    "service_key = \"dtbWOdJ%2FCz5HE0DGLU%2BCRPe7pOW0NIQBUcGEqsHZaTRiYCI%2F5%2BzugwzQjcvuId7NPdg6rUiW%2Bft3fm7yqyD4pw%3D%3D\"\n",
    "\n",
    "param = {\n",
    "    'serviceKey' : parse.unquote(service_key), ## unquote는 문자열을 요청변수화 시키는 함수\n",
    "    'pageN' : '1',    ##페이지 번호\n",
    "    'numOfRows' : '5000',   ## 페이지당 데이터의 수\n",
    "    'stratCreateDt' : '20220101',   ## 데이터의 시작 일자\n",
    "    'endCreateDt' : '20230210'   ## 데이터의 마지막 일자\n",
    "}\n",
    "\n",
    "## 서버에게 요청\n",
    "response = requests.get(url, params=param)\n",
    "## response는 xml 형태의 데이터\n",
    "\n",
    "## xml 데이터를 dict형태로 변환\n",
    "result = xmltodict.parse(response.content)\n",
    "\n",
    "print(result)"
   ]
  },
  {
   "cell_type": "code",
   "execution_count": null,
   "metadata": {},
   "outputs": [],
   "source": [
    "## result의 결과 안에 response 안에 body 안에 items 안에 item의 데이터\n",
    "\n",
    "rows = result['response']['body']['items']['item']"
   ]
  },
  {
   "cell_type": "code",
   "execution_count": null,
   "metadata": {},
   "outputs": [],
   "source": [
    "df = pd.DataFrame(rows)\n",
    "df"
   ]
  },
  {
   "cell_type": "code",
   "execution_count": null,
   "metadata": {},
   "outputs": [],
   "source": [
    "## pandas를 이용하여 csv로 파일 저장\n",
    "df.to_csv('corona.csv', encoding='UTF-8')"
   ]
  },
  {
   "cell_type": "code",
   "execution_count": null,
   "metadata": {},
   "outputs": [],
   "source": []
  }
 ],
 "metadata": {
  "kernelspec": {
   "display_name": "Python 3",
   "language": "python",
   "name": "python3"
  },
  "language_info": {
   "codemirror_mode": {
    "name": "ipython",
    "version": 3
   },
   "file_extension": ".py",
   "mimetype": "text/x-python",
   "name": "python",
   "nbconvert_exporter": "python",
   "pygments_lexer": "ipython3",
   "version": "3.11.1 (tags/v3.11.1:a7a450f, Dec  6 2022, 19:58:39) [MSC v.1934 64 bit (AMD64)]"
  },
  "orig_nbformat": 4,
  "vscode": {
   "interpreter": {
    "hash": "d83fa9b78f6d32ae369e3b25d0bdfb8546935a326f61d3bc2625644343d73d1f"
   }
  }
 },
 "nbformat": 4,
 "nbformat_minor": 2
}
