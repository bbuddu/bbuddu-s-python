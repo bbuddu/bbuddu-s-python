{
 "cells": [
  {
   "attachments": {},
   "cell_type": "markdown",
   "metadata": {},
   "source": [
    "### Class\n",
    "1. User 클래스 생성\n",
    "    - 생성자 함수는 유저 정보 입력 (이름, 휴대폰 번호, 생년월일)\n",
    "    - info()함수를 생성 :  유저의 정보를 출력\n",
    "    \n",
    "\n",
    "2. Wallet 클래스 생성\n",
    "    - User를 상속\n",
    "    - 생성자 함수는 소유자의 정보(이름, 휴대폰 번호, 생년월일), 지갑 브랜드, 지갑의 가치, 잔액(0) 입력\n",
    "    - work() 함수를 생성 : 일의 종류는 'TM', 'Alba', 'Serving'이고, TM을 하는 경우 지갑의 잔액이 5000 증가, \n",
    "                          Alba를 하는 경우 잔액 10000 증가, Serving을 하는 경우 잔액이 15000\n",
    "    - wallet_info() 함수를 생성 : 지갑의 소유자 정보와 잔액을 출력"
   ]
  },
  {
   "cell_type": "code",
   "execution_count": 1,
   "metadata": {},
   "outputs": [],
   "source": [
    "## User 클래스 선언\n",
    "class User : \n",
    "    ## 생성자 함수인 __init__ 생성\n",
    "    def __init__(self, _name, _phone, _brith):\n",
    "        self.name = _name\n",
    "        self.phone = _phone\n",
    "        self.brith = _brith\n",
    "    ## 유저의 정보를 출력하는 함수\n",
    "    def info(self):\n",
    "        self.result = [self.name, self.phone, self.brith]\n",
    "        return self.result\n"
   ]
  },
  {
   "cell_type": "code",
   "execution_count": 2,
   "metadata": {},
   "outputs": [],
   "source": [
    "user1 = User('test', '01012345678', '800101')\n",
    "user2 = User('test2', '01098765432','850101')"
   ]
  },
  {
   "cell_type": "code",
   "execution_count": 3,
   "metadata": {},
   "outputs": [
    {
     "name": "stdout",
     "output_type": "stream",
     "text": [
      "['test', '01012345678', '800101']\n",
      "['test2', '01098765432', '850101']\n"
     ]
    }
   ],
   "source": [
    "print(user1.info())\n",
    "print(user2.info())"
   ]
  },
  {
   "cell_type": "code",
   "execution_count": null,
   "metadata": {},
   "outputs": [],
   "source": []
  }
 ],
 "metadata": {
  "kernelspec": {
   "display_name": "Python 3",
   "language": "python",
   "name": "python3"
  },
  "language_info": {
   "codemirror_mode": {
    "name": "ipython",
    "version": 3
   },
   "file_extension": ".py",
   "mimetype": "text/x-python",
   "name": "python",
   "nbconvert_exporter": "python",
   "pygments_lexer": "ipython3",
   "version": "3.11.1"
  },
  "orig_nbformat": 4,
  "vscode": {
   "interpreter": {
    "hash": "d83fa9b78f6d32ae369e3b25d0bdfb8546935a326f61d3bc2625644343d73d1f"
   }
  }
 },
 "nbformat": 4,
 "nbformat_minor": 2
}
