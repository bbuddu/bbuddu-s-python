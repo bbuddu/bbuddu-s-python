{
 "cells": [
  {
   "attachments": {},
   "cell_type": "markdown",
   "metadata": {},
   "source": [
    "### Class\n",
    "1. User 클래스 생성\n",
    "    - 생성자 함수는 유저 정보 입력 (이름, 휴대폰 번호, 생년월일)\n",
    "    - info()함수를 생성 :  유저의 정보를 출력\n",
    "    \n",
    "\n",
    "2. Wallet 클래스 생성\n",
    "    - User를 상속\n",
    "    - 생성자 함수는 소유자의 정보(이름, 휴대폰 번호, 생년월일), 지갑 브랜드, 지갑의 가치, 잔액(0) 입력\n",
    "    - work() 함수를 생성 : 일의 종류는 'TM', 'Alba', 'Serving'이고, TM을 하는 경우 지갑의 잔액이 5000 증가, \n",
    "                          Alba를 하는 경우 잔액 10000 증가, Serving을 하는 경우 잔액이 15000\n",
    "    - wallet_info() 함수를 생성 : 지갑의 소유자 정보와 잔액을 출력"
   ]
  },
  {
   "cell_type": "code",
   "execution_count": 19,
   "metadata": {},
   "outputs": [],
   "source": [
    "## User 클래스 선언\n",
    "class User : \n",
    "    ## 생성자 함수인 __init__ 생성\n",
    "    def __init__(self, _name, _phone, _brith):\n",
    "        self.name = _name\n",
    "        self.phone = _phone\n",
    "        self.brith = _brith\n",
    "    ## 유저의 정보를 출력하는 함수\n",
    "    def info(self):\n",
    "        self.result = [self.name, self.phone, self.brith]\n",
    "        return self.result\n"
   ]
  },
  {
   "cell_type": "code",
   "execution_count": 20,
   "metadata": {},
   "outputs": [],
   "source": [
    "user1 = User('test', '01012345678', '800101')\n",
    "user2 = User('test2', '01098765432','850101')"
   ]
  },
  {
   "cell_type": "code",
   "execution_count": 21,
   "metadata": {},
   "outputs": [
    {
     "name": "stdout",
     "output_type": "stream",
     "text": [
      "['test', '01012345678', '800101']\n",
      "['test2', '01098765432', '850101']\n"
     ]
    }
   ],
   "source": [
    "print(user1.info())\n",
    "print(user2.info())"
   ]
  },
  {
   "cell_type": "code",
   "execution_count": 22,
   "metadata": {},
   "outputs": [],
   "source": [
    "## wallet 클래스 선언\n",
    "class wallet(User):\n",
    "    ## 생성자 함수 생성\n",
    "    def __init__(self, _name, _phone, _birth, _brand, _value, _balance = 0):\n",
    "        ##부모 클래스의 생성자 함수를 실행(User 클래스=부모클래스, wallet 클래스 = 자식 클래스)\n",
    "        super().__init__(_name, _phone, _birth)\n",
    "        self.brand = _brand\n",
    "        self.value = _value\n",
    "        self.balance = _balance\n",
    "\n",
    "    ## work() 함수 생성 -> 일의 종류\n",
    "    def work(self, _work_type):\n",
    "        ## 업무별 금액 설정\n",
    "        if _work_type == 'TM':\n",
    "            self.cost = 5000\n",
    "        elif _work_type == 'Alba':\n",
    "            self.cost = 10000\n",
    "        elif _work_type == 'Serving':\n",
    "            self.cost =15000\n",
    "        else : \n",
    "            return 'work_type이 맞지 않습니다.'\n",
    "        \n",
    "        ## 잔액 변경\n",
    "        self.balance += self.cost\n",
    "        return f\"{_work_type} 일을 성공하였습니다. 현재 잔액은 {self.balance}입니다.\"\n",
    "    \n",
    "    ## 지갑의 정보를 출력하는 함수\n",
    "    def wallet_info(self):\n",
    "        print(f\"지갑의 소유자는{self.name}\")\n",
    "        print(f\"현재 잔액은{self.balance}\")\n",
    "\n",
    "    ## 오버라이딩 - 부모클래스의 기능을 변경하여 사용하기 위함\n",
    "    def info(self):\n",
    "        print(f'소유자의 이름은 {self.name}')\n",
    "        print(f'지갑의 브랜드는 {self.brand}')\n",
    "        print(f'지갑의 가치는 {self.value}')"
   ]
  },
  {
   "cell_type": "code",
   "execution_count": 34,
   "metadata": {},
   "outputs": [],
   "source": [
    "wallet1 = wallet('test', '01012345678', '800101', 'gucci', 1000000)\n",
    "wallet2 = wallet('test2', '01098765432', '850101', 'chanel', '5000000원')"
   ]
  },
  {
   "cell_type": "code",
   "execution_count": 24,
   "metadata": {},
   "outputs": [
    {
     "name": "stdout",
     "output_type": "stream",
     "text": [
      "지갑의 소유자는test\n",
      "현재 잔액은0\n"
     ]
    }
   ],
   "source": [
    "wallet1.wallet_info()"
   ]
  },
  {
   "cell_type": "code",
   "execution_count": 25,
   "metadata": {},
   "outputs": [
    {
     "name": "stdout",
     "output_type": "stream",
     "text": [
      "지갑의 소유자는test2\n",
      "현재 잔액은0\n"
     ]
    }
   ],
   "source": [
    "wallet2.wallet_info()"
   ]
  },
  {
   "cell_type": "code",
   "execution_count": 26,
   "metadata": {},
   "outputs": [
    {
     "data": {
      "text/plain": [
       "'work_type이 맞지 않습니다.'"
      ]
     },
     "execution_count": 26,
     "metadata": {},
     "output_type": "execute_result"
    }
   ],
   "source": [
    "wallet1.work('TM')\n",
    "wallet1.work('Alba')\n",
    "wallet1.work('Serving')\n",
    "wallet1.work('teaching')"
   ]
  },
  {
   "cell_type": "code",
   "execution_count": 27,
   "metadata": {},
   "outputs": [
    {
     "name": "stdout",
     "output_type": "stream",
     "text": [
      "지갑의 소유자는test\n",
      "현재 잔액은30000\n"
     ]
    }
   ],
   "source": [
    "wallet1.wallet_info()"
   ]
  },
  {
   "cell_type": "code",
   "execution_count": 28,
   "metadata": {},
   "outputs": [
    {
     "name": "stdout",
     "output_type": "stream",
     "text": [
      "지갑의 소유자는test2\n",
      "현재 잔액은0\n"
     ]
    }
   ],
   "source": [
    "wallet2.wallet_info()"
   ]
  },
  {
   "cell_type": "code",
   "execution_count": 29,
   "metadata": {},
   "outputs": [
    {
     "data": {
      "text/plain": [
       "'TM 일을 성공하였습니다. 현재 잔액은 5000입니다.'"
      ]
     },
     "execution_count": 29,
     "metadata": {},
     "output_type": "execute_result"
    }
   ],
   "source": [
    "wallet2.work('TM')"
   ]
  },
  {
   "cell_type": "code",
   "execution_count": 35,
   "metadata": {},
   "outputs": [
    {
     "name": "stdout",
     "output_type": "stream",
     "text": [
      "소유자의 이름은 test2\n",
      "지갑의 브랜드는 chanel\n",
      "지갑의 가치는 5000000원\n"
     ]
    }
   ],
   "source": [
    "wallet2.info()"
   ]
  },
  {
   "cell_type": "code",
   "execution_count": 32,
   "metadata": {},
   "outputs": [],
   "source": [
    "user3 = User('test3', '01011112222', '900101')"
   ]
  },
  {
   "cell_type": "code",
   "execution_count": 33,
   "metadata": {},
   "outputs": [
    {
     "data": {
      "text/plain": [
       "['test3', '01011112222', '900101']"
      ]
     },
     "execution_count": 33,
     "metadata": {},
     "output_type": "execute_result"
    }
   ],
   "source": [
    "user3.info()"
   ]
  },
  {
   "cell_type": "code",
   "execution_count": null,
   "metadata": {},
   "outputs": [],
   "source": []
  }
 ],
 "metadata": {
  "kernelspec": {
   "display_name": "Python 3",
   "language": "python",
   "name": "python3"
  },
  "language_info": {
   "codemirror_mode": {
    "name": "ipython",
    "version": 3
   },
   "file_extension": ".py",
   "mimetype": "text/x-python",
   "name": "python",
   "nbconvert_exporter": "python",
   "pygments_lexer": "ipython3",
   "version": "3.11.1 (tags/v3.11.1:a7a450f, Dec  6 2022, 19:58:39) [MSC v.1934 64 bit (AMD64)]"
  },
  "orig_nbformat": 4,
  "vscode": {
   "interpreter": {
    "hash": "d83fa9b78f6d32ae369e3b25d0bdfb8546935a326f61d3bc2625644343d73d1f"
   }
  }
 },
 "nbformat": 4,
 "nbformat_minor": 2
}
